{
  "cells": [
    {
      "metadata": {},
      "cell_type": "markdown",
      "source": "# 2-2.1 Intro Python\n## Sequence: Lists \n- **List Creation**\n- **List Access**\n- List Append\n- List Insert\n- List Delete\n\n----- \n\n><font size=\"5\" color=\"#00A0B2\"  face=\"verdana\"> <B>Student will be able to</B></font>  \n- **Create Lists**\n- **Access items in a list**\n- Add Items to the end of a list\n- Insert items into a list\n- Delete items from a list"
    },
    {
      "metadata": {},
      "cell_type": "markdown",
      "source": "# &nbsp;\n<font size=\"6\" color=\"#00A0B2\"  face=\"verdana\"> <B>Concepts</B></font>\n## Creating Lists\n[![view video](https://iajupyterprodblobs.blob.core.windows.net/imagecontainer/common/play_video.png)]( http://edxinteractivepage.blob.core.windows.net/edxpages/f7cff1a7-5601-48a1-95a6-fd1fdfabd20e.html?details=[{\"src\":\"http://jupyternootbookwams.streaming.mediaservices.windows.net/933c4e57-93ae-4660-8725-6eff3987dd1c/Unit2_Section2.1a-Creating_Lists.ism/manifest\",\"type\":\"application/vnd.ms-sstr+xml\"}],[{\"src\":\"http://jupyternootbookwams.streaming.mediaservices.windows.net/933c4e57-93ae-4660-8725-6eff3987dd1c/Unit2_Section2.1a-Creating_Lists.vtt\",\"srclang\":\"en\",\"kind\":\"subtitles\",\"label\":\"english\"}])\nA simple lists contains **comma separated** objects enclosed in **square brackets**   \n```python\nempty_list = [ ]\nsample_list = [1, 1, 2, 3, 3, 3, 3, 4, 5, 5, 5, 5, 5]\n```\n\nList object types are not restricted so a mix of object types can be in single list\n```python\nmixed_list = [1, 1, \"one\", \"two\", 2.0, sample_list, \"Hello World\"]\n```"
    },
    {
      "metadata": {},
      "cell_type": "markdown",
      "source": "# &nbsp;\n<font size=\"6\" color=\"#00A0B2\"  face=\"verdana\"> <B>Examples</B></font>"
    },
    {
      "metadata": {
        "trusted": true
      },
      "cell_type": "code",
      "source": "# [ ] review and run example\n# define list of strings\nft_bones = [\"calcaneus\", \"talus\", \"cuboid\", \"navicular\", \"lateral cuneiform\", \"intermediate cuneiform\", \"medial cuneiform\"]\n\n# display type information\nprint(\"ft_bones: \", type(ft_bones))\n\n# print the list\nprint(ft_bones)",
      "execution_count": 1,
      "outputs": [
        {
          "output_type": "stream",
          "text": "ft_bones:  <class 'list'>\n['calcaneus', 'talus', 'cuboid', 'navicular', 'lateral cuneiform', 'intermediate cuneiform', 'medial cuneiform']\n",
          "name": "stdout"
        }
      ]
    },
    {
      "metadata": {
        "trusted": true
      },
      "cell_type": "code",
      "source": "# [ ] review and run example\n# define list of integers\nage_survey = [12, 14, 12, 29, 12, 14, 12, 12, 13, 12, 14, 13, 13, 46, 13, 12, 12, 13, 13, 12, 12]\n\n# display type information\nprint(\"age_survey: \", type(age_survey))\n\n# print the list\nprint(age_survey)",
      "execution_count": 2,
      "outputs": [
        {
          "output_type": "stream",
          "text": "age_survey:  <class 'list'>\n[12, 14, 12, 29, 12, 14, 12, 12, 13, 12, 14, 13, 13, 46, 13, 12, 12, 13, 13, 12, 12]\n",
          "name": "stdout"
        }
      ]
    },
    {
      "metadata": {
        "trusted": true
      },
      "cell_type": "code",
      "source": "# [ ] review and run example\n# define list of mixed data type\nmixed_list = [1, 34, 0.999, \"dog\", \"cat\", ft_bones, age_survey]\n\n# display type information\nprint(\"mixed_list: \", type(mixed_list))\n\n# print the list\nprint(mixed_list)",
      "execution_count": 3,
      "outputs": [
        {
          "output_type": "stream",
          "text": "mixed_list:  <class 'list'>\n[1, 34, 0.999, 'dog', 'cat', ['calcaneus', 'talus', 'cuboid', 'navicular', 'lateral cuneiform', 'intermediate cuneiform', 'medial cuneiform'], [12, 14, 12, 29, 12, 14, 12, 12, 13, 12, 14, 13, 13, 46, 13, 12, 12, 13, 13, 12, 12]]\n",
          "name": "stdout"
        }
      ]
    },
    {
      "metadata": {
        "collapsed": true
      },
      "cell_type": "markdown",
      "source": "# &nbsp;\n<font size=\"6\" color=\"#B24C00\"  face=\"verdana\"> <B>Task 1</B></font>\n\n## Create Lists"
    },
    {
      "metadata": {
        "trusted": true
      },
      "cell_type": "code",
      "source": "# [ ] create team_names list and populate with 3-5 team name strings\n\n# [ ] print the list\n\nteam_names =[\"firewall\", \"firebox\", \"firework\"]\nprint(\"Team name list:\", team_names)",
      "execution_count": 6,
      "outputs": [
        {
          "output_type": "stream",
          "text": "Team name list: ['firewall', 'firebox', 'firework']\n",
          "name": "stdout"
        }
      ]
    },
    {
      "metadata": {
        "trusted": true
      },
      "cell_type": "code",
      "source": "# [ ] Create a list mix_list with numbers and strings with 4-6 items\n\n# [ ] print the list\n\nmix_list = [1,\"apple\", 5, \"watermelon\",88]\nprint(\"mixed list:\", mix_list)\n",
      "execution_count": 7,
      "outputs": [
        {
          "output_type": "stream",
          "text": "mixed list: [1, 'apple', 5, 'watermelon', 88]\n",
          "name": "stdout"
        }
      ]
    },
    {
      "metadata": {},
      "cell_type": "markdown",
      "source": "# &nbsp;\n<font size=\"6\" color=\"#00A0B2\"  face=\"verdana\"> <B>Concepts</B></font>\n## List Access \n[![view video](https://iajupyterprodblobs.blob.core.windows.net/imagecontainer/common/play_video.png)]( http://edxinteractivepage.blob.core.windows.net/edxpages/f7cff1a7-5601-48a1-95a6-fd1fdfabd20e.html?details=[{\"src\":\"http://jupyternootbookwams.streaming.mediaservices.windows.net/efc23682-3b15-4c73-afe0-77067fac2769/Unit2_Section2.1b-Accessing_Lists.ism/manifest\",\"type\":\"application/vnd.ms-sstr+xml\"}],[{\"src\":\"http://jupyternootbookwams.streaming.mediaservices.windows.net/efc23682-3b15-4c73-afe0-77067fac2769/Unit2_Section2.1b-Accessing_Lists.vtt\",\"srclang\":\"en\",\"kind\":\"subtitles\",\"label\":\"english\"}])\n### Counting like a computer\n#### To access a list we need to count like a computer, and that means starting with zero (0)\nLists give an **index** number to each list item\n\n- first element in a list is index 0\n- second element in a list is index 1\n\nTo access the first item in a list use the list name, followed by square brackets containing the index number\n```python\nage_survey[0]\n```\n"
    },
    {
      "metadata": {},
      "cell_type": "markdown",
      "source": "### &nbsp;\n<font size=\"6\" color=\"#00A0B2\"  face=\"verdana\"> <B>Examples</B></font>\n\n|run previous examples before running the examples below|\n|-----------------------------------------------------------|\n"
    },
    {
      "metadata": {
        "trusted": true
      },
      "cell_type": "code",
      "source": "# [ ] review and run example\nprint(ft_bones[0], \"is the 1st bone on the list\")\nprint(ft_bones[2], \"is the 3rd bone on the list\")\nprint(ft_bones[-1], \"is the last bone on the list\")",
      "execution_count": 8,
      "outputs": [
        {
          "output_type": "stream",
          "text": "calcaneus is the 1st bone on the list\ncuboid is the 3rd bone on the list\nmedial cuneiform is the last bone on the list\n",
          "name": "stdout"
        }
      ]
    },
    {
      "metadata": {
        "trusted": true
      },
      "cell_type": "code",
      "source": "# [ ] review and run example\nprint(ft_bones[1], \"is connected to the\",ft_bones[3])",
      "execution_count": 9,
      "outputs": [
        {
          "output_type": "stream",
          "text": "talus is connected to the navicular\n",
          "name": "stdout"
        }
      ]
    },
    {
      "metadata": {
        "trusted": true
      },
      "cell_type": "code",
      "source": "# [ ] review and run example\nthree_ages_sum = age_survey[0] + age_survey[1] + age_survey[2]\nprint(\"The first three ages total\", three_ages_sum)",
      "execution_count": 10,
      "outputs": [
        {
          "output_type": "stream",
          "text": "The first three ages total 38\n",
          "name": "stdout"
        }
      ]
    },
    {
      "metadata": {
        "collapsed": true
      },
      "cell_type": "markdown",
      "source": "# &nbsp;\n<font size=\"6\" color=\"#B24C00\"  face=\"verdana\"> <B>Task 2</B></font>\n"
    },
    {
      "metadata": {
        "trusted": true
      },
      "cell_type": "code",
      "source": "# [ ] Create a list, streets, that lists the name of 5 street name strings\n\n# [ ] print a message that there is \"No Parking\" on index 0 or index 4 streets\n\nstreets = [\"Crystal Rose\",\"Credit View\",\"City Center\", \"Wild Rose\",\"Woodbine\"]\nprint(\"there is 'No Parking' on\", streets[0], \"or\", streets[4])",
      "execution_count": 12,
      "outputs": [
        {
          "output_type": "stream",
          "text": "there is 'No Parking' on Crystal Rose or Woodbine\n",
          "name": "stdout"
        }
      ]
    },
    {
      "metadata": {
        "trusted": true
      },
      "cell_type": "code",
      "source": "# [ ] Create a list, num_2_add, made of 5 different numbers between 0 - 25\n\n# [ ] print the sum of the numbers\n\nnum_2_add =[1,3,4,19,2]\nsum=num_2_add[0]+num_2_add[1]+num_2_add[2]+num_2_add[3]+num_2_add[4]\nprint(\"the sum of the numbers is\", sum)",
      "execution_count": 13,
      "outputs": [
        {
          "output_type": "stream",
          "text": "the sum of the numbers is 29\n",
          "name": "stdout"
        }
      ]
    },
    {
      "metadata": {
        "collapsed": true
      },
      "cell_type": "markdown",
      "source": "# &nbsp;\n<font size=\"6\" color=\"#B24C00\"  face=\"verdana\"> <B>Task 3</B></font>  \n## Fix the Errors"
    },
    {
      "metadata": {
        "trusted": false
      },
      "cell_type": "code",
      "source": "# [ ] Review & Run, but ***Do Not Edit*** this code cell\n# [ ] Fix the error by only editing and running the block below\n\nprint(\" Total of checks 3 & 4 = $\", pay_checks[2] + pay_checks[3])\n",
      "execution_count": null,
      "outputs": []
    },
    {
      "metadata": {
        "trusted": true
      },
      "cell_type": "code",
      "source": "# [ ] Fix the error above by creating and running code in this cell\n\n\npay_checks=[1,2,3,4]\nprint(\" Total of checks 3 & 4 = $\", pay_checks[2] + pay_checks[3])",
      "execution_count": 15,
      "outputs": [
        {
          "output_type": "stream",
          "text": " Total of checks 3 & 4 = $ 7\n",
          "name": "stdout"
        }
      ]
    },
    {
      "metadata": {},
      "cell_type": "markdown",
      "source": "[Terms of use](http://go.microsoft.com/fwlink/?LinkID=206977) &nbsp; [Privacy & cookies](https://go.microsoft.com/fwlink/?LinkId=521839) &nbsp; © 2017 Microsoft"
    }
  ],
  "metadata": {
    "anaconda-cloud": {},
    "kernelspec": {
      "name": "python3",
      "display_name": "Python 3",
      "language": "python"
    },
    "language_info": {
      "mimetype": "text/x-python",
      "nbconvert_exporter": "python",
      "name": "python",
      "pygments_lexer": "ipython3",
      "version": "3.5.4",
      "file_extension": ".py",
      "codemirror_mode": {
        "version": 3,
        "name": "ipython"
      }
    }
  },
  "nbformat": 4,
  "nbformat_minor": 1
}