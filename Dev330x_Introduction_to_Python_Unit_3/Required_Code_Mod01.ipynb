{
  "cells": [
    {
      "metadata": {},
      "cell_type": "markdown",
      "source": "# Module 1 Required code  \n  \n\n## Note: Students of Dev330x on edX\n\n> ### It is required to submit your required code for Module 1 within the edX course   \n> The completed code must be copied from the cell below and pasted in to the edX required code page at the end of Module 1 in the course \"Introduction to Python: Creating Scalable, Robust, Interactive Code\" on edX.  \n>  \n> **REQUIREMENTS**  \n> Submit all of the code in working order but you will only be graded on the the 2 functions below:\n- ### name_generator()\n  - **use the following required keywords & functions:** `datetime.today()`, `randint()`, `.strftime()`, `return`\n- ### directory_creator()\n  - **use the following:** Python `os` module"
    },
    {
      "metadata": {},
      "cell_type": "markdown",
      "source": "---\n<font size=\"6\" color=\"#B24C00\"  face=\"verdana\"> <B>Required Code Module 1</B></font>   \n\n\n\n## Directory creator  \n\n### Complete the Required Code in the Jupyter Notebook Required_Code_Mod01 and then paste into edX code submission page   \n\nThis is the same code assignment located as the project at the bottom of 3-1.5_Mod01_Practice.ipynb"
    },
    {
      "metadata": {
        "trusted": true
      },
      "cell_type": "code",
      "source": "# [ ] The following program is designed to generate a number of directories.\n# The directory names follow the pattern (MM_DD_YY_randnum), where:\n#     - MM_DD_YY: is today's date as month/day/year\n#     - randnum: is a random integer between 10000 and 50000\n# For example, if today is May 12th, 2016, then the following would be valid names: 05_12_16_11050 or 05_12_16_15001\n#\n# For this task, you should complete the functions:\n# 1) `directory_count()`\n# 2) `name_generator()`\n# 3) `directory_creator(name)`\n# 4) `create()`\n#\n# HINT: You should import all necessary modules\n\nimport os\nfrom datetime import datetime\nimport math\nfrom random import randint\n\ndef directory_count():\n    \"\"\"\n    Calculate the number of directories to be generated.\n    \n    I) Get the current minute using appropriate functionality from `datetime`\n    II) Take the square root of ..the current minute + 15\n    III) Round the square root to an integer\n    VI) return the rounded number as the number of directories to be created\n    \n    args: \n          NONE\n    \n    returns: \n         `dir_count`: number of directories to be created \n    \"\"\"\n    #TODO\n    \n    t=datetime.today()\n    current_minute=t.minute\n    \n    sqr=math.sqrt(current_minute+15)\n    rounded_num=math.trunc(sqr)\n    dir_count=rounded_num\n    \n    return dir_count\n    \n\ndef name_generator():\n    \"\"\"\n    Generate a single directory name using the pattern (MM_DD_YY_randnum).\n    \n    args:\n         NONE\n    \n    returns:\n         `dir_name`: string containing a valid directory name\n    \"\"\"\n    #TODO\n    t=datetime.today()\n    \n    \n    randnum=randint(10000,50000)\n    \n    t_name=t.strftime(\"%m_%d_%y\")\n    dir_name=t_name+\"_\"+str(randnum)\n    \n    return dir_name\n    \n\ndef directory_creator(name):\n    \"\"\"\n    Create a single directory called `name` in the current working directory.\n    \n    args:\n         name: directory to be created\n    \n    returns:\n         NONE\n    \"\"\"\n    #TODO\n    os.mkdir(name)\n    \n\ndef create():\n    \"\"\"\n    Generate the necessary directories.\n    \n    Use `directory_count` to calculate the number of directories, then use `directory_creator` and `name_generator`.\n\n    args:\n         NONE\n    \n    returns:\n         NONE\n    \"\"\"\n    #TODO\n    dir_count=directory_count()\n    for i in range(dir_count):\n        dir_name=name_generator()\n    directory_creator(dir_name)\n\n\n# Change working directory to `parent_dir` or `create`\nif(\"parent_dir\" not in os.getcwd()):\n    if os.path.exists(\"./parent_dir\"):\n        print(\"Changing working dir to parent_dir\")\n        os.chdir(\"parent_dir\")\n    else:\n        os.mkdir(os.getcwd() + \"./parent_dir\")\n        print(\"Changing working dir to parent_dir\")\n        os.chdir(\"parent_dir\")\nelse:\n    # so the code can run multiple times \n    # while directory not ending with 'parent_dir' move up the path ..\\\n    while \"parent_dir\" not in os.getcwd()[-11:]:\n        # move up in dir to find 'parent_dir'\n        os.chdir(\"..\")\n        print(\"moved up\", os.getcwd())\n        \n# print the current working directory (should be \"parent_dir\")\nprint(\"The current working directory is:\", os.getcwd())\n\n# check for randoms_directory if not present, create new\nif os.path.exists(os.getcwd() + \"/randoms_directory\") != True:\n    os.mkdir(\"randoms_directory\")\n\n# change the current working directory to randoms_directory\nprint(\"Changing working dir to randoms_directory\")\nos.chdir(\"randoms_directory\")\n# print the current working directory (should be \"randoms_dir\")\nprint(\"The current working directory is:\", os.getcwd())\n\n# create directories inside \"randoms_directory\"\ncreate()\n    \n# list the content of the current directory\nprint(\"Current directory content:\", os.listdir())\n\n\n",
      "execution_count": 1,
      "outputs": [
        {
          "output_type": "stream",
          "text": "Changing working dir to parent_dir\nThe current working directory is: /home/nbuser/library/parent_dir\nChanging working dir to randoms_directory\nThe current working directory is: /home/nbuser/library/parent_dir/randoms_directory\nCurrent directory content: ['04_11_19_43681', '04_11_19_27538', '04_11_19_14061', '04_11_19_33348', '04_11_19_24575', '04_11_19_31030', '04_11_19_20357', '04_11_19_11213', '04_11_19_11905', '04_11_19_21008', '04_11_19_10359', '04_11_19_23629', '04_11_19_29370', '04_11_19_20762', '04_11_19_18926', '04_11_19_23347', '04_11_19_49820', '04_11_19_34490', '04_11_19_14968', '04_11_19_49738', '04_11_19_48256', '04_11_19_37458', '04_11_19_14586', '04_11_19_45807', '04_11_19_13329', '04_11_19_19121', '04_11_19_41304', '04_11_19_29162', '04_11_19_35703', '04_11_19_19620', '04_11_19_39291', '04_11_19_48226', '04_11_19_40372', '04_11_19_33104', '04_11_19_20360', '04_11_19_34024', '04_11_19_19439', '04_11_19_36517', '04_11_19_27429', '04_11_19_32011', '04_11_19_15622', '04_11_19_44259', '04_11_19_34695', '04_11_19_27028', '04_11_19_31829', '04_11_19_44808', '04_11_19_19573', '04_11_19_29870', '04_11_19_45604', '04_11_19_43012', '04_11_19_45299', '04_11_19_10583', '04_11_19_32810', '04_11_19_40997', '04_11_19_40805', '04_11_19_12321', '04_11_19_12065', '04_11_19_23121', '04_11_19_25503', '04_11_19_46603', '04_11_19_20133', '04_11_19_33641', '04_11_19_33015', '04_11_19_34706', '04_11_19_43851']\n",
          "name": "stdout"
        }
      ]
    },
    {
      "metadata": {},
      "cell_type": "markdown",
      "source": "### Test your code for the graded functions name_generator() & directory_creator()  \nHelp ensure that required name_generator() & directory_creator() functions will earn credit when submitted to edX by running the code below after the functions have been loaded in this notebook.\n\nBe sure to meet the following **requirements** for name_generator() & directory_creator() functions before submission to edX:  \n> \n- ### name_generator()\n  - **use the following required keywords & functions:** `datetime.today()`, `randint()`, `.strftime()`, `return`\n- ### directory_creator()\n  - **use the following Python module:** `os` "
    },
    {
      "metadata": {
        "trusted": true
      },
      "cell_type": "code",
      "source": "# Test your code for the graded functions name_generator() & directory_creator()\nimport os\nimport shutil\n\n# make sure directory structure is in place\nos.chdir(\"/home/nbuser/library\")\n\nif os.path.exists(os.getcwd() + \"/parent_dir\") != True:\n    os.mkdir(\"parent_dir\")\nos.chdir(\"parent_dir\")\n    \n    \nif os.path.exists(os.getcwd() + \"/randoms_directory\") != True:\n    os.mkdir(\"randoms_directory\")\nos.chdir(\"randoms_directory\")\n    \nif os.path.exists(os.getcwd() + \"/test_required\") == True:\n    # delete the test_required directory\n    shutil.rmtree(\"/home/nbuser/library/parent_dir/randoms_directory/test_required\")\n# create and move to Test_required\nos.mkdir(\"test_required\")\nos.chdir(\"test_required\")\n\n# print the current working directory (should be \"parent_dir\")\nprint(\"The current working directory is:\", os.getcwd())\nprint(\"\\nThe created directories should be named MM_DD_YY_randnum - such as '03_22_19_17040'\")\n\n# TEST*** test name_generator & directory_creator() by creating 3 directories ***TEST\nfor i in range(3):\n    dir_name = name_generator()\n    print(\"creating directory\", dir_name)\n    directory_creator(dir_name)\n\n\n# list the content of the current directory\nprint(\"Current directory content:\", os.listdir())\n\n# Check if TEST created 3 directories\nnum_dir = len(os.listdir())\n\nif num_dir == 3:\n    print(\"\\nPASS: Contains 3 directories as expected. Be sure name_generator() & directory_creator() contain required keywords and functions.\")  \n    print(\"Copy code cell above into edX required code submission.\")\nelse:\n    print(\"\\nFAIL: Should contain 3 directories, contains\", num_dir )",
      "execution_count": 2,
      "outputs": [
        {
          "output_type": "stream",
          "text": "The current working directory is: /home/nbuser/library/parent_dir/randoms_directory/test_required\n\nThe created directories should be named MM_DD_YY_randnum - such as '03_22_19_17040'\ncreating directory 04_11_19_24011\ncreating directory 04_11_19_18177\ncreating directory 04_11_19_33951\nCurrent directory content: ['04_11_19_24011', '04_11_19_18177', '04_11_19_33951']\n\nPASS: Contains 3 directories as expected. Be sure name_generator() & directory_creator() contain required keywords and functions.\nCopy code cell above into edX required code submission.\n",
          "name": "stdout"
        }
      ]
    },
    {
      "metadata": {
        "trusted": true
      },
      "cell_type": "code",
      "source": "",
      "execution_count": null,
      "outputs": []
    }
  ],
  "metadata": {
    "kernelspec": {
      "name": "python36",
      "display_name": "Python 3.6",
      "language": "python"
    },
    "language_info": {
      "mimetype": "text/x-python",
      "nbconvert_exporter": "python",
      "name": "python",
      "pygments_lexer": "ipython3",
      "version": "3.6.6",
      "file_extension": ".py",
      "codemirror_mode": {
        "version": 3,
        "name": "ipython"
      }
    }
  },
  "nbformat": 4,
  "nbformat_minor": 2
}