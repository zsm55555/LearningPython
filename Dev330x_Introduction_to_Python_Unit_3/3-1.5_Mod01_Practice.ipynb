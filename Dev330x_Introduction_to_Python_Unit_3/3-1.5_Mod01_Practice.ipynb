{
  "cells": [
    {
      "metadata": {},
      "cell_type": "markdown",
      "source": "# Module 1 Practice\n\n### Students will be able to:\n\n## 3-1.1 Using Python Modules\n* Import different Python modules\n* Compute mathematical expressions using functions from the math module\n* Recognize the effect of operator precedence\n* Round real numbers into the nearest integer\n* Generate (pseudo-)random integers\n* Select a random element from a list\n* Shuffle the elements of a list\n\n##  3-1.2 Working with Date and Time\n* Assign and modify a time object (variable)\n* Assign and modify a date object (variable)\n* Get the current local date\n* Assign and modify a datetime object (variable)\n* Split a datetime object into separate time and date objects\n* Combine time and date objects into datetime objects\n* Display a datetime object as a formatted string\n\n## 3-1.3 Date and Time Arithmetic\n\n* Create timedelta objects\n* Use timedelta objects to perform date arithmetic\n* Compare two datetime objects\n* Build a useful application using timedelta arithmetic\n\n## 3-1.4 File System\n\n* Identify the platform running a Python script ('Linux', 'win32', 'Darwin')\n* Get the current working directory\n* Change the current working directory\n* List the content of the current working directory\n* Create a new directory\n* Remove a directory\n* Rename files and/or directories\n* Recognize the difference between a relative path and an absolute path\n* Test if a path exists\n* Test if a specific file or directory exists"
    },
    {
      "metadata": {},
      "cell_type": "markdown",
      "source": "---\n<font size=\"6\" color=\"#B24C00\"  face=\"verdana\"> <B>Task 1</B></font>\n\n## `math` module\n"
    },
    {
      "metadata": {
        "trusted": true
      },
      "cell_type": "code",
      "source": "# [ ] Use the math module to display an accurate value for pi\n\nimport math\n\nprint(math.pi)\n",
      "execution_count": 2,
      "outputs": [
        {
          "output_type": "stream",
          "text": "3.141592653589793\n",
          "name": "stdout"
        }
      ]
    },
    {
      "metadata": {
        "trusted": true
      },
      "cell_type": "code",
      "source": "# [ ] Write a program to:\n# 1) find all the numbers in a list that are divisible by 3\n# 2) display the square root of these numbers\n# 3) use a rounding function to display the square roots while ignoring the decimal fraction\n\nimport math\n\nlst = [23, 45, 65, 2345, 42, 76, 37, 87, 647, 35, 37 ,39, 898, 92, 18]\n\nfor ltr in lst:\n    result=ltr%3\n    if result==0:\n        sqrt=math.sqrt(ltr)\n        print(math.trunc(sqrt))\n       \n",
      "execution_count": 2,
      "outputs": [
        {
          "output_type": "stream",
          "text": "6\n6\n9\n6\n4\n",
          "name": "stdout"
        }
      ]
    },
    {
      "metadata": {},
      "cell_type": "markdown",
      "source": "---\n<font size=\"6\" color=\"#B24C00\"  face=\"verdana\"> <B>Task 2</B></font>\n\n## Mathematical operators\n"
    },
    {
      "metadata": {},
      "cell_type": "markdown",
      "source": "### Coin calculators\n\nIn the following exercises, you will develop functions to count the number of coins in a certain dollar amount. You will then use these functions to write a program that can calculate the change due to a customer in coins."
    },
    {
      "metadata": {},
      "cell_type": "markdown",
      "source": "#### Quarters"
    },
    {
      "metadata": {
        "trusted": true
      },
      "cell_type": "code",
      "source": "# [ ] Complete the function `quarters_count` so it calculates and prints the number of quarters in `input_cents`\n# The function input `input_cents` should be in cents \n# The function should print the number of calculated quarters in `input_cents`\n# The function should return the number of remaining cents `remaining_cents` (which is less than 25, why?)\n# HINT: You might want to use % and // operators\n\ndef quarters_count(input_cents):\n    #TODO\n    quarters=input_cents//25\n    remaining_cents=input_cents%25\n    print(\"Number of quarters: \",quarters)\n    return remaining_cents\n    \n# test with $2\n# Output should be: 8 quarter\\s\ndollars = 2\ntotal_cents = dollars * 100\nremaining_cents = quarters_count(total_cents)\n\n# test with $5.30\n# Output should be: 21.0 quarter\\s\ndollars = 5.30\ntotal_cents = dollars * 100\nremaining_cents = quarters_count(total_cents)\n\n# test with $9.49\n# Output should be: 37.0 quarter\\s\ndollars = 9.49\ntotal_cents = dollars * 100\nremaining_cents = quarters_count(total_cents)\n\n",
      "execution_count": 4,
      "outputs": [
        {
          "output_type": "stream",
          "text": "Number of quarters:  8\nNumber of quarters:  21.0\nNumber of quarters:  37.0\n",
          "name": "stdout"
        }
      ]
    },
    {
      "metadata": {},
      "cell_type": "markdown",
      "source": "#### Dimes"
    },
    {
      "metadata": {
        "trusted": true
      },
      "cell_type": "code",
      "source": "# [ ] Complete the function `dimes_count` so it calculates and prints the number of dimes in `input_cents`\n# The function input `input_cents` should be in cents \n# The function should print the number of calculated dimes in `input_cents`\n# The function should return the number of remaining cents `remaining_cents` (which is less than 10, why?)\n# HINT: You might want to use % and // operators\n\ndef dimes_count(input_cents):\n    #TODO\n    dimes=input_cents//10\n    remaining_cents=input_cents%10\n    print(\"Number of dimes: \",dimes)\n    return remaining_cents\n\n# test with $2\n# Output should be: 20 dime\\s\ndollars = 2\ntotal_cents = dollars * 100\nremaining_cents = dimes_count(total_cents)\n\n# test with $5.30\n# Output should be: 53.0 dime\\s\ndollars = 5.30\ntotal_cents = dollars * 100\nremaining_cents = dimes_count(total_cents)\n\n# test with $9.49\n# Output should be: 94.0 dime\\s\ndollars = 9.49\ntotal_cents = dollars * 100\nremaining_cents = dimes_count(total_cents)\n\n",
      "execution_count": 2,
      "outputs": [
        {
          "output_type": "stream",
          "text": "Number of dimes:  20\nNumber of dimes:  53.0\nNumber of dimes:  94.0\n",
          "name": "stdout"
        }
      ]
    },
    {
      "metadata": {},
      "cell_type": "markdown",
      "source": "#### Nickels"
    },
    {
      "metadata": {
        "trusted": true
      },
      "cell_type": "code",
      "source": "# [ ] Complete the function `nickels_count` so it calculates and prints the number of nickels in `input_cents`\n# The function input `input_cents` should be in cents \n# The function should print the number of calculated nickels in `input_cents`\n# The function should return the number of remaining cents `remaining_cents` (which is less than 5, why?)\n# HINT: You might want to use % and // operators\n\ndef nickels_count(input_cents):\n    #TODO\n    nickels=input_cents//5\n    remaining_cents=input_cents%5\n    print(\"Number of Nickels: \", nickels)\n    return remaining_cents\n    \n    \n# test with $2\n# Output should be: 40 nickel\\s\ndollars = 2\ntotal_cents = dollars * 100\nremaining_cents = nickels_count(total_cents)\n\n# test with $5.30\n# Output should be: 106.0 nickel\\s\ndollars = 5.30\ntotal_cents = dollars * 100\nremaining_cents = nickels_count(total_cents)\n\n# test with $9.49\n# Output should be: 189.0 nickel\\s\ndollars = 9.49\ntotal_cents = dollars * 100\nremaining_cents = nickels_count(total_cents)\n\n",
      "execution_count": 3,
      "outputs": [
        {
          "output_type": "stream",
          "text": "Number of Nickels:  40\nNumber of Nickels:  106.0\nNumber of Nickels:  189.0\n",
          "name": "stdout"
        }
      ]
    },
    {
      "metadata": {},
      "cell_type": "markdown",
      "source": "#### Change calculator"
    },
    {
      "metadata": {
        "trusted": true
      },
      "cell_type": "code",
      "source": "# [ ] Complete the function `coins_due` to calculate and print the change due to a customer in coins\n#\n# The function `coins_due` has 2 inputs:\n#      - `amount_paid`: Amount paid by a customer (in cents)\n#      - `item_price`: Purchase price of an item\n#\n# The function should print:\n#      - The number of quarters due\n#      - The number of dimes due\n#      - The number of nickels due\n#      - The number of cents due\n#      \n# The function does not need to return anything\n#\n# HINT: Use the functions you developed before `quarters_count`, `dimes_count`, `nickels_count`\n\n\ndef quarters_count(input_cents):\n    #TODO\n    quarters=input_cents//25\n    return quarters\n\ndef dimes_count(input_cents):\n    #TODO\n    dimes=input_cents//10\n    return dimes\n    \ndef nickels_count(input_cents):\n    #TODO\n    nickels=input_cents//5\n    return nickels\n    \n\ndef coins_due(amount_paid, item_price):\n    print(\"Change due:\")\n    #TODO\n    change=amount_paid-item_price\n    quarter=quarters_count(change)\n    rem_cents=change%25\n    dime=dimes_count(rem_cents)\n    rem_cents_1=rem_cents%10\n    nickel=nickels_count(rem_cents_1)\n    rem_cents_2=rem_cents%5\n    cent=rem_cents_2\n    print(quarter,\"quarter\\s\")\n    print(dime,\"dime\\s\")\n    print(nickel,\"nickels\")\n    print(cent,\"cent\\s\")\n    \n\n    \n    \n# Test case:\n# amount paid = $10, item price = $5.37\n# Output should be: \n#    Change due:\n#    18.0 quarter\\s\n#    1.0 dime\\s\n#    0.0 nickel\\s\n#    3.0 cent\\s\n\namount_paid = 10 * 100 # in cents\nitem_price = 5.37 * 100 # in cents\ncoins_due(amount_paid, item_price)\n\n",
      "execution_count": 32,
      "outputs": [
        {
          "output_type": "stream",
          "text": "Change due:\n18.0 quarter\\s\n1.0 dime\\s\n0.0 nickels\n3.0 cent\\s\n",
          "name": "stdout"
        }
      ]
    },
    {
      "metadata": {},
      "cell_type": "markdown",
      "source": "---\n<font size=\"6\" color=\"#B24C00\"  face=\"verdana\"> <B>Task 3</B></font>\n\n## Random numbers\n"
    },
    {
      "metadata": {},
      "cell_type": "markdown",
      "source": "### Probability of a die roll\n\nIt is possible to mathematically predict the probability (or chance) of getting a certain die roll; however, in this exercise you will use Python to do it without math. The trick is to roll a die a large number of times and count how many times we get a certain roll. You can, then, divide the count by the large number to get the probability. For a fair 6-sided die, the chance of getting any of its faces is about 16.6%"
    },
    {
      "metadata": {
        "trusted": true
      },
      "cell_type": "code",
      "source": "# [ ] Complete the following program to display the probability of a certain die roll\n\nfrom random import randint\n\ndef die_roller ():\n    return(randint(1, 6))\n\n#TODO\n\nroll=6\nnum_roll=1000\ncount=0\n\nfor i in range(num_roll):\n    if (die_roller())==roll:\n        count+=1\n\nprint(\"The chance of getting any of die's faces is about\", count/num_roll)",
      "execution_count": 53,
      "outputs": [
        {
          "output_type": "stream",
          "text": "The chance of getting any of die's faces is about 0.18\n",
          "name": "stdout"
        }
      ]
    },
    {
      "metadata": {},
      "cell_type": "markdown",
      "source": "### Roll till you get 11\n\nIn this exercise, you will count the number of times you need to roll a set of 2 dice till you get a roll sum of 11."
    },
    {
      "metadata": {
        "trusted": true
      },
      "cell_type": "code",
      "source": "# [ ] Complete the following program so you can count the number of times needed to get a roll sum of 11\n\nfrom random import randint\n\ndef die_roller():\n    return(randint(1, 6))\n\ndef roll_sum():\n    return die_roller() + die_roller()\n\n#TODO\n\ncount=0\n\nwhile True:\n    count+=1\n    if roll_sum()==11:\n        print(count)\n        break",
      "execution_count": 34,
      "outputs": [
        {
          "output_type": "stream",
          "text": "3\n",
          "name": "stdout"
        }
      ]
    },
    {
      "metadata": {},
      "cell_type": "markdown",
      "source": "### Pick a candy\n\nIn this exercise, you will write a program to randomly select a candy from a box."
    },
    {
      "metadata": {
        "trusted": true
      },
      "cell_type": "code",
      "source": "# [ ] Complete the function `pick_candy` so it returns a candy from box at random\n\ndef pick_candy():\n    box = [\"Taffy\", \"Brownie\", \"Cookie\", \"Candy bar\", \"Chocolate\", \"Lollipop\", \"Gingerbread\", \"Marshmallow\"]\n    #TODO\n    from random import choice\n    return choice(box)\n    \nprint(pick_candy())\n\n",
      "execution_count": 44,
      "outputs": [
        {
          "output_type": "stream",
          "text": "Lollipop\n",
          "name": "stdout"
        }
      ]
    },
    {
      "metadata": {},
      "cell_type": "markdown",
      "source": "### Shuffle a sorted list"
    },
    {
      "metadata": {
        "trusted": true
      },
      "cell_type": "code",
      "source": "# [ ] Write a program to shuffle the following sorted list\n\nlst = [3, 5, 9, 29, 35, 59, 62, 69, 102, 394, 594, 1993]\n\n#TODO\nfrom random import shuffle\nshuffle(lst)\n\nprint(lst)\n\n",
      "execution_count": 54,
      "outputs": [
        {
          "output_type": "stream",
          "text": "[9, 59, 29, 62, 394, 3, 69, 5, 102, 35, 1993, 594]\n",
          "name": "stdout"
        }
      ]
    },
    {
      "metadata": {},
      "cell_type": "markdown",
      "source": "---\n<font size=\"6\" color=\"#B24C00\"  face=\"verdana\"> <B>Task 4</B></font>\n\n## Working with date and time\n"
    },
    {
      "metadata": {},
      "cell_type": "markdown",
      "source": "### Current date and time"
    },
    {
      "metadata": {
        "trusted": true
      },
      "cell_type": "code",
      "source": "# [ ] Write a program that displays the current time as (HH:MM AM/PM) (example 02:28 PM)\n\nfrom datetime import datetime\n\nt=datetime.today()\n\ncurrent_time=t.strftime(\"%H:%M %p\")\n\nprint(current_time)\n\n",
      "execution_count": 61,
      "outputs": [
        {
          "output_type": "stream",
          "text": "02:14 AM\n",
          "name": "stdout"
        }
      ]
    },
    {
      "metadata": {
        "trusted": true
      },
      "cell_type": "code",
      "source": "# [ ] Write a program that displays the current time as (HH:MM:SS) (example 14:28:10)\n\nfrom datetime import datetime\n\nt=datetime.today()\n\ncurrent_time=t.strftime(\"%H:%M:%S\")\n\nprint(current_time)\n",
      "execution_count": 62,
      "outputs": [
        {
          "output_type": "stream",
          "text": "02:18:36\n",
          "name": "stdout"
        }
      ]
    },
    {
      "metadata": {
        "trusted": true
      },
      "cell_type": "code",
      "source": "# [ ] Write a program that displays the current date as (Friday, December 15, 2017)\nfrom datetime import datetime\n\nt=datetime.today()\n\ncurrent_time=t.strftime(\"%A, %B %d, %Y\")\n\nprint(current_time)\n",
      "execution_count": 64,
      "outputs": [
        {
          "output_type": "stream",
          "text": "Sunday, April 07, 2019\n",
          "name": "stdout"
        }
      ]
    },
    {
      "metadata": {},
      "cell_type": "markdown",
      "source": "### American VS European date format\n\nIn the United States, the date is formatted as Month/Day/Year; whereas, in Europe the date is formatted as Day/Month/Year. In this exercise, you will write two functions that will display a `datetime` object in the American or European format."
    },
    {
      "metadata": {
        "trusted": true
      },
      "cell_type": "code",
      "source": "# [ ] Complete the functions `american_format(d)` and `european_format(d)` to display the datetime object d in the proper format\n\nfrom datetime import datetime\n\ndef american_format(d):\n    #TODO\n    formatted_string = d.strftime(\"%m/%d/%Y\")\n    return formatted_string\n    \ndef european_format(d):\n    #TODO\n    formatted_string = d.strftime(\"%d/%m/%Y\")\n    return formatted_string\n    \n# test\nd = datetime(month = 2, year = 2012, day = 13)\n\nprint(\"American format:\", american_format(d))\nprint(\"European format:\", european_format(d))\n\n\n",
      "execution_count": 68,
      "outputs": [
        {
          "output_type": "stream",
          "text": "American format: 02/13/2012\nEuropean format: 13/02/2012\n",
          "name": "stdout"
        }
      ]
    },
    {
      "metadata": {},
      "cell_type": "markdown",
      "source": "### Birthday days"
    },
    {
      "metadata": {
        "trusted": true
      },
      "cell_type": "code",
      "source": "# [ ] Write a program to display a list of all your birthdays from the day you were born till 2025.\n# You should also show the weekdays so you can see which of them was (or will be) on a weekend\n\nfrom datetime import date, timedelta\nmax_date = date(year = 2025, month = 8, day = 21)\nbdate = date(year = 1987, month = 8, day = 21)\nyear = timedelta(days = 365)\n\n\nwhile True:\n    if bdate <= max_date:\n        print(bdate.strftime(\"%A, %d-%m-%Y\"))\n    else:\n        False\n        break\n    bdate = bdate.replace(year = bdate.year + 1)\n  ",
      "execution_count": 2,
      "outputs": [
        {
          "output_type": "stream",
          "text": "Friday, 21-08-1987\nSunday, 21-08-1988\nMonday, 21-08-1989\nTuesday, 21-08-1990\nWednesday, 21-08-1991\nFriday, 21-08-1992\nSaturday, 21-08-1993\nSunday, 21-08-1994\nMonday, 21-08-1995\nWednesday, 21-08-1996\nThursday, 21-08-1997\nFriday, 21-08-1998\nSaturday, 21-08-1999\nMonday, 21-08-2000\nTuesday, 21-08-2001\nWednesday, 21-08-2002\nThursday, 21-08-2003\nSaturday, 21-08-2004\nSunday, 21-08-2005\nMonday, 21-08-2006\nTuesday, 21-08-2007\nThursday, 21-08-2008\nFriday, 21-08-2009\nSaturday, 21-08-2010\nSunday, 21-08-2011\nTuesday, 21-08-2012\nWednesday, 21-08-2013\nThursday, 21-08-2014\nFriday, 21-08-2015\nSunday, 21-08-2016\nMonday, 21-08-2017\nTuesday, 21-08-2018\nWednesday, 21-08-2019\nFriday, 21-08-2020\nSaturday, 21-08-2021\nSunday, 21-08-2022\nMonday, 21-08-2023\nWednesday, 21-08-2024\nThursday, 21-08-2025\n",
          "name": "stdout"
        }
      ]
    },
    {
      "metadata": {},
      "cell_type": "markdown",
      "source": "---\n<font size=\"6\" color=\"#B24C00\"  face=\"verdana\"> <B>Task 5</B></font>\n\n## Date and Time Arithmetic\n"
    },
    {
      "metadata": {},
      "cell_type": "markdown",
      "source": "### `timedelta`"
    },
    {
      "metadata": {
        "trusted": true
      },
      "cell_type": "code",
      "source": "# Write a program to find out how many minutes are in a 4-week period\n# Hint: Use a timedelta object and the total_seconds() method\n\nfrom datetime import timedelta\ndelta=timedelta(weeks=4)\n\nseconds=delta.total_seconds()\nminutes=seconds/60\n\nprint(\"There are\",minutes,\"minutes in a 4-week period.\")",
      "execution_count": 1,
      "outputs": [
        {
          "output_type": "stream",
          "text": "There are 40320.0 minutes in a 4-week period.\n",
          "name": "stdout"
        }
      ]
    },
    {
      "metadata": {},
      "cell_type": "markdown",
      "source": "### Date arithmetic"
    },
    {
      "metadata": {
        "trusted": true
      },
      "cell_type": "code",
      "source": "# [ ] Write a program to compute the number of days remaining in the current year\n\nfrom datetime import timedelta,date\n\ndate1=date.today()\ndate2=date(year=2019,month=12,day=31)\n\ndelta=date2-date1\n\nprint(delta)",
      "execution_count": 3,
      "outputs": [
        {
          "output_type": "stream",
          "text": "268 days, 0:00:00\n",
          "name": "stdout"
        }
      ]
    },
    {
      "metadata": {},
      "cell_type": "markdown",
      "source": "### Comparing `datetime` objects"
    },
    {
      "metadata": {
        "trusted": true
      },
      "cell_type": "code",
      "source": "# [ ] Complete the program below to find out if July 4th is within 10 days of today's date,\n# if it is, find out if has passed or not\n\nfrom datetime import datetime\n\n# get today's date\ntodays_date = datetime.today()\n\n# 4th of July of current year\njuly_4th = datetime(month = 7, day = 4, year = todays_date.year)\n\ndays_difference = todays_date - july_4th\n\n#TODO\n    \nif days_difference.days <= 10 and days_difference.days >=-10:\n    if july_4th >todays_date:\n        print(\"July 4th has passed.\")\n    elif july_4th == todays_date:\n        print(\"Today is July 4th.\")\n    else:\n        print(\"July 4th has not passed yet.\")\nelse:\n    print(\"July 4th is not within 10 days of today's date.\")\n",
      "execution_count": 8,
      "outputs": [
        {
          "output_type": "stream",
          "text": "July 4th is not within 10 days of today's date.\n",
          "name": "stdout"
        }
      ]
    },
    {
      "metadata": {},
      "cell_type": "markdown",
      "source": "---\n<font size=\"6\" color=\"#B24C00\"  face=\"verdana\"> <B>Task 6</B></font>\n\n## File System\n"
    },
    {
      "metadata": {},
      "cell_type": "markdown",
      "source": "### Directory operations"
    },
    {
      "metadata": {
        "trusted": true
      },
      "cell_type": "code",
      "source": "# [ ] Complete the following program to:\n# 1) navigate to `parent_dir` directory (if not already in it)\n# 2) create a new directory called `practice_1`\n# 3) change the working directory to `practice_1`\n# 4) display the current working directory to verify you are in the correct location\n# 5) create a new directory called `practice_2`\n# 6) verify that `practice_2` was created by listing the content of the current directory\n# 7) rename `practice_2` as `sub_practice_2`\n# 8) verify the name was successful changed by listing the content of the current directory\n# 9) remove `sub_practice_2`\n# 10) change working directory to the parent directory using `..`\n# 11) remove `practice_1`\n# 12) verify your current working directory and display its content\n\nimport os, os.path\n\n# 1) navigate to `parent_dir` directory (if not already in it)\nif('parent_dir' not in os.getcwd()):\n    # Changing the current working directory to parent dir\n    print(\"Changing working dir to parent_dir\")\n    os.chdir('parent_dir')\n    print(\"Current working directory:\", os.getcwd())\n\n# 2) create a new directory called `practice_1`\n#TODO\nos.mkdir(\"practice_1\")\n\n# 3) change the working directory to `practice_1`\n#TODO\nos.chdir(\"practice_1\")\n\n# 4) display the current working directory to verify you are in the correct location\n#TODO\nprint(\"Current working directory:\", os.getcwd())\n\n\n# 5) create a new directory called `practice_2`\n#TODO\nos.mkdir(\"practice_2\")\n\n# 6) verify that `practice_2` was created by listing the content of the current directory\n#TODO\nprint('Current directory content: ', os.listdir())\n\n# 7) rename `practice_2` as `sub_practice_2`\n#TODO\nos.rename(\"practice_2\",\"sub_practice_2\")\n\n# 8) verify the name was successful changed by listing the content of the current directory\n#TODO\nprint('Current directory content: ', os.listdir())\n\n\n# 9) remove `sub_practice_2`\n#TODO\nos.rmdir(\"sub_practice_2\")\n\n# 10) change working directory to the parent directory using `..`\n#TODO\nos.chdir(\"..\")\n\n# 11) remove `practice_1`\n#TODO\nos.rmdir(\"practice_1\")\n\n# 12) verify your current working directory and display its content\n#TODO\nprint(\"Current working directory:\", os.getcwd())\nprint('Current directory content: ', os.listdir())\n\n",
      "execution_count": 9,
      "outputs": [
        {
          "output_type": "stream",
          "text": "Changing working dir to parent_dir\nCurrent working directory: /home/nbuser/library/parent_dir\nCurrent working directory: /home/nbuser/library/parent_dir/practice_1\nCurrent directory content:  ['practice_2']\nCurrent directory content:  ['sub_practice_2']\nCurrent working directory: /home/nbuser/library/parent_dir\nCurrent directory content:  ['text_file.txt', 'child2_dir', 'parent_leaf.txt', 'child1_dir']\n",
          "name": "stdout"
        }
      ]
    },
    {
      "metadata": {},
      "cell_type": "markdown",
      "source": "### Path operations"
    },
    {
      "metadata": {
        "trusted": true
      },
      "cell_type": "code",
      "source": "# [ ] Write a program that prompts the user for a file or directory name\n# if it exists in the current working directory, it prints whether it is a file or directory\nfile = input(\"Enter a file/directory name: \")\nimport os\nos.chdir('..')\nos.chdir('..')\nprint(os.getcwd())\nprint('Current directory content: ', os.listdir())\n\nabs_path = os.path.abspath(file)\nprint(abs_path)\nif (os.path.isfile(abs_path)):\n    print(\"Input is a file!\")\nelif (os.path.isdir(abs_path)):\n    print(\"Input is a directory!\")\nelse:\n    print(\"Input is not present in the current directory!\")",
      "execution_count": 6,
      "outputs": [
        {
          "output_type": "stream",
          "name": "stdout",
          "text": "Enter a file/directory name: .RData\n/\nCurrent directory content:  ['dev', 'bin', 'sbin', 'run', 'home', 'lib', 'usr', 'root', 'sys', 'srv', 'var', 'tmp', 'media', 'etc', 'opt', 'mnt', 'lib64', 'boot', 'proc', '.start.sh', '.RData', '.jupyter_notebook_config_custom.py', '.startuser.sh']\n/.RData\nInput is a file!\n"
        }
      ]
    },
    {
      "metadata": {},
      "cell_type": "markdown",
      "source": "---\n<font size=\"6\" color=\"#B24C00\"  face=\"verdana\"> <B>Module 1 Project</B></font>\n\n## Directory creator\n\n"
    },
    {
      "metadata": {
        "trusted": true
      },
      "cell_type": "code",
      "source": "# [ ] The following program is designed to generate a number of directories.\n# The directory names follow the pattern (MM_DD_YY_randnum), where:\n#     - MM_DD_YY: is today's date as month/day/year\n#     - randnum: is a random integer between 10000 and 50000\n# For example, if today is May 12th, 2016, then the following would be valid names: 05_12_16_11050 or 05_12_16_15001\n#\n# For this task, you should complete the functions:\n# 1) `directory_count()`\n# 2) `name_generator()`\n# 3) `directory_creator(name)`\n# 4) `create()`\n#\n# HINT: You should import all necessary modules\n\nimport os\nfrom datetime import datetime\nimport math\nfrom random import randint\n\ndef directory_count():\n    \"\"\"\n    Calculate the number of directories to be generated.\n    \n    I) Get the current minute using appropriate functionality from `datetime`\n    II) Take the square root of ..the current minute + 15\n    III) Round the square root to an integer\n    VI) return the rounded number as the number of directories to be created\n    \n    args: \n          NONE\n    \n    returns: \n         `dir_count`: number of directories to be created \n    \"\"\"\n    #TODO\n    \n    t=datetime.today()\n    current_minute=t.minute\n    \n    sqr=math.sqrt(current_minute+15)\n    rounded_num=math.trunc(sqr)\n    dir_count=rounded_num\n    \n    return dir_count\n    \n\ndef name_generator():\n    \"\"\"\n    Generate a single directory name using the pattern (MM_DD_YY_randnum).\n    \n    args:\n         NONE\n    \n    returns:\n         `dir_name`: string containing a valid directory name\n    \"\"\"\n    #TODO\n    t=datetime.today()\n    \n    \n    randnum=randint(10000,50000)\n    \n    t_name=t.strftime(\"%m_%d_%y\")\n    dir_name=t_name+\"_\"+str(randnum)\n    \n    return dir_name\n    \n\ndef directory_creator(name):\n    \"\"\"\n    Create a single directory called `name` in the current working directory.\n    \n    args:\n         name: directory to be created\n    \n    returns:\n         NONE\n    \"\"\"\n    #TODO\n    os.mkdir(name)\n    \n\ndef create():\n    \"\"\"\n    Generate the necessary directories.\n    \n    Use `directory_count` to calculate the number of directories, then use `directory_creator` and `name_generator`.\n\n    args:\n         NONE\n    \n    returns:\n         NONE\n    \"\"\"\n    #TODO\n    dir_count=directory_count()\n    for i in range(dir_count):\n        dir_name=name_generator()\n    directory_creator(dir_name)\n\n# Change working directory to `parent_dir` or `create`\nif(\"parent_dir\" not in os.getcwd()):\n    if os.path.exists(\"./parent_dir\"):\n        print(\"Changing working dir to parent_dir\")\n        os.chdir(\"parent_dir\")\n    else:\n        os.mkdir(os.getcwd() + \"./parent_dir\")\n        print(\"Changing working dir to parent_dir\")\n        os.chdir(\"parent_dir\")\nelse:\n    # so the code can run multiple times \n    # while directory not ending with 'parent_dir' move up the path ..\\\n    while \"parent_dir\" not in os.getcwd()[-11:]:\n        # move up in dir to find 'parent_dir'\n        os.chdir(\"..\")\n        print(\"moved up\", os.getcwd())\n        \n# print the current working directory (should be \"parent_dir\")\nprint(\"The current working directory is:\", os.getcwd())\n\n# check for randoms_directory if not present, create new\nif os.path.exists(os.getcwd() + \"/randoms_directory\") != True:\n    os.mkdir(\"randoms_directory\")\n\n# change the current working directory to randoms_directory\nprint(\"Changing working dir to randoms_directory\")\nos.chdir(\"randoms_directory\")\n# print the current working directory (should be \"randoms_dir\")\nprint(\"The current working directory is:\", os.getcwd())\n\n# create directories inside \"randoms_directory\"\ncreate()\n    \n# list the content of the current directory\nprint(\"Current directory content:\", os.listdir())\n\n\n",
      "execution_count": 1,
      "outputs": [
        {
          "output_type": "stream",
          "text": "Changing working dir to parent_dir\nThe current working directory is: /home/nbuser/library/parent_dir\nChanging working dir to randoms_directory\nThe current working directory is: /home/nbuser/library/parent_dir/randoms_directory\nCurrent directory content: ['04_11_19_43681', '04_11_19_27538', '04_11_19_14061', '04_11_19_33348', '04_11_19_48226', '04_11_19_24575', '04_11_19_31030', '04_11_19_20357', '04_11_19_11213', '04_11_19_11905', '04_11_19_21008', '04_11_19_10359', '04_11_19_23629', '04_11_19_29370', '04_11_19_20762', '04_11_19_18926', '04_11_19_23347', '04_11_19_49820', '04_11_19_34490', '04_11_19_14968', '04_11_19_49738', '04_11_19_48256', '04_11_19_37458', '04_11_19_14586', '04_11_19_45807', '04_11_19_13329', '04_11_19_19121', '04_11_19_41304', '04_11_19_29162', '04_11_19_35703', '04_11_19_19620', '04_11_19_39291', '04_11_19_34706', '04_11_19_40372', '04_11_19_33104', '04_11_19_12600', '04_11_19_20360', '04_11_19_34024', '04_11_19_19439', '04_11_19_36517', '04_11_19_27429', '04_11_19_32011', '04_11_19_15622', '04_11_19_44259', '04_11_19_34695', '04_11_19_27028', '04_11_19_31829', '04_11_19_44808', '04_11_19_19573', '04_11_19_29870', '04_11_19_45604', '04_11_19_43012', '04_11_19_45299', '04_11_19_10583', '04_11_19_32810', '04_11_19_40997', '04_11_19_40805', '04_11_19_12321', '04_11_19_12065', '04_11_19_23121', '04_11_19_25503', '04_11_19_46603', '04_11_19_20133', '04_11_19_33641', '04_11_19_33015', '04_11_19_43851']\n",
          "name": "stdout"
        }
      ]
    }
  ],
  "metadata": {
    "kernelspec": {
      "name": "python36",
      "display_name": "Python 3.6",
      "language": "python"
    },
    "language_info": {
      "mimetype": "text/x-python",
      "nbconvert_exporter": "python",
      "name": "python",
      "pygments_lexer": "ipython3",
      "version": "3.6.6",
      "file_extension": ".py",
      "codemirror_mode": {
        "version": 3,
        "name": "ipython"
      }
    }
  },
  "nbformat": 4,
  "nbformat_minor": 2
}