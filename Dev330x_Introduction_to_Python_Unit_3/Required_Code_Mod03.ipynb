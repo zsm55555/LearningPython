{
  "cells": [
    {
      "metadata": {},
      "cell_type": "markdown",
      "source": "# Module 3 Required code  \n  \n\n## Note: Students of Dev330x on edX\n\n> ### It is required to submit your required code for Module 3 within the edX course   \n> The completed code must be copied from the cell below and pasted in to the edX required code page at the end of Module 3 in the course \"Introduction to Python: Creating Scalable, Robust, Interactive Code\" on edX.  \n>  \n> **REQUIREMENTS**  \n> Submit all of the code in working order, you will only be graded on correct completion tasks below:\n- Use the inventory dictionary in a program that asks the user for a UPC number, description, unit price, quantity in stock.  \n- If the item already exists in the inventory, the information is updated, and your program should display a message that it is updating the entry.  \n- If the item does NOT exists in the inventory, a new dictionary entry is created, and your program should display a message that it is creating a new entry.  \n- Use try/except in the program. \n- **use the following required keywords & functions:** `try`, `except`, `int`, `input`,`.format`"
    },
    {
      "metadata": {},
      "cell_type": "markdown",
      "source": "<font size=\"6\" color=\"#B24C00\"  face=\"verdana\"> <B>Required Code Module 3</B></font>  \n\n### Complete the Required Code in the Jupyter Notebook Required_Code_Mod03 and then paste into edX code submission page   \n\nThis is the same code assignment located as **Task 7,  Dictionary: Updating/adding an item** in 3-3.5_Mod03_Practice.ipynb\n\n## Dictionary: Updating/adding an item  \n"
    },
    {
      "metadata": {
        "trusted": true
      },
      "cell_type": "code",
      "source": "# [ ] Use the `inventory` dictionary in a program that asks the user for a \n#     UPC number, description, unit price, quantity in stock.\n# If the item already exists in the inventory, the information is updated, \n#     and your program should display a message that it is updating the entry.\n# If the item does NOT exists in the inventory, a new dictionary entry is created, \n#     and your program should display a message that it is creating a new entry.\n# Use try/except in the program.\n\n\n# test cases\n\n# For an existing item\n'''\nEnter UPC number: 839529\nEnter item description: TOMATOS 1LB\nEnter unit price: 1.55\nEnter item quantity: 21\nExisting item, updating: ['TOMATOS 1LB', 1.29, 25]\n\n  UPC   | Description       |  Unit Price  |  Quantity \n-------------------------------------------------------\n839529  | TOMATOS 1LB       |         1.55 |      21.00\n'''\n\n# For a new item\n'''\nEnter UPC number: 29430\nEnter item description: ORANGE 1LB\nEnter unit price: 0.99\nEnter item quantity: 40\nNew item, creating ORANGE 1LB\n\n  UPC   | Description       |  Unit Price  |  Quantity \n-------------------------------------------------------\n29430   | ORANGE 1LB        |         0.99 |      40.00\n'''\n\ninventory = {847502: ['APPLES 1LB', 1.99, 50], 847283: ['OLIVE OIL', 10.99, 100], 839529: ['TOMATOS 1LB', 1.29, 25], 483946: ['MILK 1/2G', 3.45, 35], 493402: ['FLOUR 5LB', 2.99, 40], 485034: ['BELL PEPPERS 1LB', 1.35, 28], 828391: ['WHITE TUNA', 1.69, 100], 449023: ['CHEESE 1/2LB', 4.99, 15]}\n\n\n# get UPC from user, handling cases where the input is invalid with try/except\n#TODO: Your code goes here\n    try:\n        num=int(input(\"Enter UPC number: \"))\n        desc=input(\"Enter item description: \")\n        price=float(input(\"Enter unit price: \"))\n        quantity=int(input(\"Enter item quantity: \"))\n        print()\n    except ValueError:\n        print(\"Input is invalid!\")\n        \n\n\n# display message, either \"updating\" or creating\" and then item is being updated display the `value` being updated\n#TODO: Your code goes here\n\nif num in inventory:\n    print(\"Existing item, updating:\", inventory[num])\n    inventory[num]=[desc,price,quantity]\nelse:\n    print(\"New item, creating:\", desc)\n    inventory[num]=[desc,price,quantity]\n\n\n# update dictionary entry\n#TODO: Your code goes here\n\n\n# print header including \n# HINT: look at the testing samples shown in comments above for new item and for existing item\n#TODO: Your code goes here\n\n\n# print actual data from the dictionary (See Hint above)\n#TODO: Your code goes here\nprint()\nprint(\"{:^8s}| {:<20s}|{:^15s}|{:>10s}\".format(\"UPC\",\"Description\",\"Unit Price\",\"Quantity\"))\nprint(\"-\"*60)\nprint(\"{:^8d}| {:<20s}|{:>15.2f}|{:>10.2f}\".format(num,inventory[num][0],inventory[num][1],inventory[num][2]))\n\n\n\n\n\n",
      "execution_count": null,
      "outputs": []
    },
    {
      "metadata": {},
      "cell_type": "markdown",
      "source": "### Test your graded code  \nUse the supplied data and make sure the output running code above looks the same\n\nComplete the Required Code in the Jupyter Notebook Required_Code_Mod03 and then paste into edX code submission page\n#### Test 1  \n```  \nEnter UPC number: 839529\nEnter item description: TOMATOS 1LB\nEnter unit price: 1.55\nEnter item quantity: 21\n \n```  \n#### Expected Result Test 1  \n```  \nExisting item, updating: ['TOMATOS 1LB', 1.29, 25]\n\n  UPC   | Description       |  Unit Price  |  Quantity \n-------------------------------------------------------\n839529  | TOMATOS 1LB       |         1.55 |      21.00\n```  \n\n#### Test 2   \n```  \nEnter UPC number: 29430\nEnter item description: ORANGE 1LB\nEnter unit price: 0.99\nEnter item quantity: 40\n```  \n#### Expected Result Test 2  \n```  \nNew item, creating ORANGE 1LB\n\n  UPC   | Description       |  Unit Price  |  Quantity \n-------------------------------------------------------\n29430   | ORANGE 1LB        |         0.99 |      40.00\n```  "
    }
  ],
  "metadata": {
    "kernelspec": {
      "name": "python3",
      "display_name": "Python 3",
      "language": "python"
    },
    "language_info": {
      "mimetype": "text/x-python",
      "nbconvert_exporter": "python",
      "name": "python",
      "file_extension": ".py",
      "version": "3.5.4",
      "pygments_lexer": "ipython3",
      "codemirror_mode": {
        "version": 3,
        "name": "ipython"
      }
    }
  },
  "nbformat": 4,
  "nbformat_minor": 2
}