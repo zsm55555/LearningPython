{
  "cells": [
    {
      "metadata": {},
      "cell_type": "markdown",
      "source": "# Section 3.4: Dictionaries\n* {}, .pop(), .clear\n* .keys(), .values() .items(), sorted()\n* in, not in, is, ==, len()\n\n### Students will be able to:\n* Create dictionaries\n* Access dictionary values\n* Add, change, and delete dictionary items\n* Delete a whole dictionary variable\n* Iterate over the keys, values, and items of a dictionary \n* Use dictionary operations and functions (i.e. containment and sorting)"
    },
    {
      "metadata": {},
      "cell_type": "markdown",
      "source": "---\n<font size=\"6\" color=\"#00A0B2\"  face=\"verdana\"> <B>Concepts</B></font>  \n\n## Dictionary Basics\n\n[![view video](https://iajupyterprodblobs.blob.core.windows.net/imagecontainer/common/play_video.png)](https://www.youtube.com/watch?v=jZZeX0qJl4Y)\n\nA Python dictionary is yet another data structure to store a collection of data. However, unlike lists and tuples, a dictionary does not store a sequence of data but rather an association of (_key, value_) pairs. All keys in a dictionary are unique, while a value can be associated with multiple keys. Dictionaries provide a very useful utility to represent real-world data, such as that stored in contact lists and birthday lists. \n\nThe power of Python's dictionary is in the way it can be searched. If you are searching for a specific element in an unordered list (or tuple) you will have to traverse the whole list until you find the element; on the other hand, when you search a Python dictionary, there is no need to traverse all of its elements. A Python dictionary uses a mathematical process called _hashing_ that optimizes the search capability by using the keys of a dictionary. This is more obvious when you are storing thousands of items in a dictionary.\n\n#### Creating a dictionary\nA dictionary can be created by using the braces operator `{key:value}`. You have to specify the keys and their associated values.\n\n##### `int` keys\nKeys can be integer values starting from 0, much like lists and tuples.\n```python\n>>> D = {0:5.5, 1:10.3, 2:43.2, 3:85.3}\n>>> type(D)\n<class 'dict'>\n```\n\nKeys do not have to start from 0, neither do they have to be in order.\n```python\n>>> D = {1343:5.5, 2:10.3, 3234235234:43.2, -324:85.3}\n>>> type(D)\n<class 'dict'>\n```\n##### `float` keys\nKeys can be float.\n```python\n>>> D = {1.5:5.5, 2.9:10.3, -3.8:43.2, 5:85.3}\n>>> type(D)\n<class 'dict'>\n```\n\n##### `str` keys\nAs you might have noticed by now, keys can be of different types, and keys within the same dictionary can be of different types. Generally speaking, a key should be of a hashable type; therefore, you cannot use mutable objects such as lists or other dictionaries.\n\n```python\n>>> D = {'Name':'Skye', 'Age':35, 'Temperature':98.7}\n```\n\nNOTE: An empty dictionary can be created as `D = {}`.\n\n#### Accessing dictionary items\nYou can access the value associated with a key of a dictionary by using the subscript `[]` operator, in much the same way you did with lists and tuples.\n\n```python\n>>> D = {'Name':'Skye', 'Age':35, 'Temperature':98.7}\n>>> print(\"The name is: {}\".format(D['Name']))\nThe name is: Skye\n>>> print(\"Age is:\", D['Age'])\nAge is: 35\n```\n\n#### Modifying dictionary items\nDictionaries are mutable objects and can be modified. For example, you can change the value associated with a key by accessing it using the `[]` operator amd then assigning it a new value.\n\n```python\n>>> D = {'Name':'Skye', 'Age':35, 'Temperature':98.7}\n>>> D['Name'] = 'Tamara'\n>>> D\n{'Name': 'Tamara', 'Age': 35, 'Temperature': 98.7}\n```\n\n#### Adding dictionary items\nYou can add a new _key:value_ pair to a dictionary by using the operator `[]`. Just make sure the key doesn't already exist in the dictionary. (You will see later that you can use the containment operator `in` to test a key's existence.)\n\n```python\n>>> D = {'Name':'Skye', 'Age':35, 'Temperature':98.7}\n>>> D['Last Name'] = 'Babic'\n>>> D\n{'Name': 'Skye', 'Age': 35, 'Temperature': 98.7, 'Last Name': 'Babic'}\n```\n\n#### Deleting dictionary items\nYou can delete a dictionary _key:value_ pair using the `pop(key)` method, the _key:value_ pair will be deleted and the method will return the value associated with the key.\n\n```python\n>>> D = {'Name':'Skye', 'Age':35, 'Temperature':98.7, 'Last Name': 'Babic'}\n>>> a = D.pop('Age') # remove the key:value ('Age':35) pair\n>>> a # D['Age']\n35\n>>> D\n{'Name': 'Skye', 'Temperature': 98.7, 'Last Name': 'Babic'}\n```\n\nIf you try to delete a key:value pair not in the dictionary, a `KeyError` exception will be raised. \n```python\n>>> D = {'Name':'Skye', 'Age':35, 'Temperature':98.7, 'Last Name': 'Babic'}\n>>> D.pop('Middle Name') # There is no middle name in D\nTraceback (most recent call last):\n  File \"<stdin>\", line 1, in <module>\nKeyError: 'Middle Name'\n```\n#### Clearing and deleting a dictionary\nYou can delete all the elements in a dictionary by using the `.clear()` method.\n\n```python\n>>> D = {'Name':'Skye', 'Age':35, 'Temperature':98.7, 'Last Name': 'Babic'}\n>>> D.clear()\n>>> D\n{}\n```\n\nYou can delete the whole dictionary by using `del` like you would delete any other variable.\n```python\n>>> D = {'Name':'Skye', 'Age':35, 'Temperature':98.7, 'Last Name': 'Babic'}\n>>> del(D)\n>>> D\nTraceback (most recent call last):\n  File \"<stdin>\", line 1, in <module>\nNameError: name 'D' is not defined\n```"
    },
    {
      "metadata": {},
      "cell_type": "markdown",
      "source": "---\n<font size=\"6\" color=\"#00A0B2\"  face=\"verdana\"> <B>Examples</B></font>\n\n"
    },
    {
      "metadata": {},
      "cell_type": "markdown",
      "source": "## Creating a Contact List\n\nIn the following examples, you will see how to create, search, modify, add, and delete names and phone numbers from a contacts dictionary."
    },
    {
      "metadata": {},
      "cell_type": "markdown",
      "source": "### Querying contacts"
    },
    {
      "metadata": {
        "trusted": true
      },
      "cell_type": "code",
      "source": "# Create a dictionary of contacts; names as keys, phone numbers as values\ncontacts = {\"Suresh Datta\": \"345-555-0101\", \"Colette Browning\": \"483-555-0119\", \"Skey Homsi\": \"485-555-0195\"}\n\n# Ask user for a name, then display the number\nname = input(\"Enter a name: \")\n\n# If name is not in the contacts dictionary, a KeyError exception will be raised\nnumber = contacts[name]\n\nprint(\"Number is: {:s}\".format(number))",
      "execution_count": 3,
      "outputs": [
        {
          "output_type": "stream",
          "name": "stdout",
          "text": "Enter a name: Suresh Datta\nNumber is: 345-555-0101\n"
        }
      ]
    },
    {
      "metadata": {},
      "cell_type": "markdown",
      "source": "### Querying contacts with exception handling"
    },
    {
      "metadata": {
        "trusted": true
      },
      "cell_type": "code",
      "source": "# Create a dictionary of contacts; names as keys, phone numbers as values\ncontacts = {\"Suresh Datta\": \"345-555-0101\", \"Colette Browning\": \"483-555-0119\", \"Skey Homsi\": \"485-555-0195\"}\n\n# Ask user for a name, then display the number\nname = input(\"Enter a name: \")\n\n# If name is not in the contacts dictionary, the exception message will be displayed\ntry:\n    number = contacts[name]\n    print(\"Number is: {:s}\".format(number))\nexcept KeyError as exception_object:\n    print(\"{:s} was not found in contacts\".format(name))",
      "execution_count": 6,
      "outputs": [
        {
          "output_type": "stream",
          "name": "stdout",
          "text": "Enter a name: Suresh Datta\nNumber is: 345-555-0101\n"
        }
      ]
    },
    {
      "metadata": {},
      "cell_type": "markdown",
      "source": "### Adding or changing a contact"
    },
    {
      "metadata": {
        "trusted": true
      },
      "cell_type": "code",
      "source": "# Create a dictionary of contacts; names as keys, phone numbers as values\ncontacts = {\"Suresh Datta\": \"345-555-0101\", \"Colette Browning\": \"483-555-0119\", \"Skey Homsi\": \"485-555-0195\"}\n\n# Ask user for a name and number\nname = input(\"Enter a name: \")\nnumber = input(\"Enter a number: \")\n\n# If the name exists in the dictionary, the number will be updated\n# If the name does NOT exist in the dictionary, a new name:number pair will be added\ncontacts[name] = number\n\nprint(\"Updated contact:\", contacts)",
      "execution_count": 8,
      "outputs": [
        {
          "output_type": "stream",
          "name": "stdout",
          "text": "Enter a name: Francis Gu\nEnter a number: 123-456-7890\nUpdated contact: {'Suresh Datta': '345-555-0101', 'Francis Gu': '123-456-7890', 'Skey Homsi': '485-555-0195', 'Colette Browning': '483-555-0119'}\n"
        }
      ]
    },
    {
      "metadata": {},
      "cell_type": "markdown",
      "source": "### Deleting a contact"
    },
    {
      "metadata": {
        "trusted": true
      },
      "cell_type": "code",
      "source": "# Create a dictionary of contacts; names as keys, phone numbers as values\ncontacts = {\"Suresh Datta\": \"345-555-0101\", \"Colette Browning\": \"483-555-0119\", \"Skey Homsi\": \"485-555-0195\"}\n\n# Ask user for a name and number\nname = input(\"Enter a name: \")\n\n# If the name is not in the contacts dictionary, display the exception message\ntry:\n    number = contacts.pop(name)\n    print(\"{:s}: {:s} was deleted from contacts\".format(name, number))\nexcept KeyError as exception_object:\n    print(\"{:s} was not found in contacts\".format(name))\n    \nprint(\"Updated contact:\", contacts)",
      "execution_count": 10,
      "outputs": [
        {
          "output_type": "stream",
          "name": "stdout",
          "text": "Enter a name: Suresh Datta\nSuresh Datta: 345-555-0101 was deleted from contacts\nUpdated contact: {'Skey Homsi': '485-555-0195', 'Colette Browning': '483-555-0119'}\n"
        }
      ]
    },
    {
      "metadata": {},
      "cell_type": "markdown",
      "source": "## Tracking Grocery Prices\nIn the following example, you will use a dictionary to store and manipulate groceries and their associated prices. Each grocery is represented by a unique item name that is used as the unique dictionary key. The average daily price of a grocery will be used as the associated value."
    },
    {
      "metadata": {
        "trusted": true
      },
      "cell_type": "code",
      "source": "# Create a dictionary of grocery items and associated prices\ngroceries = {'Bread':2.26, 'Milk':3.62, 'Chocolate':1.59}\n\n# Display the price for the item name\nitem = 'Bread'\nprint(\"{} price = {:.2f}\".format(item, groceries[item]))\n\n# Add a new key:value pair to the dictionary\ngroceries['Banana']= 1.00\nprint('Adding Banana:')\nprint(groceries)\n\n# Modify a dictionary element\ngroceries['Banana'] = 1.10\nprint('Modifying Banana:')\nprint(groceries)\n\n# Remove a dictionary element\nprint(\"Removing: '{}':{:.2f}\".format('Banana', groceries.pop('Banana')))\nprint(groceries)",
      "execution_count": 11,
      "outputs": [
        {
          "output_type": "stream",
          "text": "Bread price = 2.26\nAdding Banana:\n{'Chocolate': 1.59, 'Bread': 2.26, 'Milk': 3.62, 'Banana': 1.0}\nModifying Banana:\n{'Chocolate': 1.59, 'Bread': 2.26, 'Milk': 3.62, 'Banana': 1.1}\nRemoving: 'Banana':1.10\n{'Chocolate': 1.59, 'Bread': 2.26, 'Milk': 3.62}\n",
          "name": "stdout"
        }
      ]
    },
    {
      "metadata": {},
      "cell_type": "markdown",
      "source": "---\n<font size=\"6\" color=\"#B24C00\"  face=\"verdana\"> <B>Task 1</B></font>\n\n## Dictionary Basics"
    },
    {
      "metadata": {
        "trusted": true
      },
      "cell_type": "code",
      "source": "# [ ] The `data` list contains information about a company's employees.\n# Use the `data` list and an appropriate loop to create a dictionary of employees.\n# Use IDs (as keys) and names (as values).\n# Ignore the email addresses for now.\n\n# The created dictionary should look like:\n# {57394: 'Suresh Datta', 48539: 'Colette Browning', 58302: 'Skye Homsi', 48502: 'Hiroto Yamaguchi', 48291: 'Tobias Ledford', 48293: 'Jin Xu', 23945: 'Joana Dias', 85823: 'Alton Derosa'}\n\ndata = [[\"Suresh Datta\", 57394, \"suresh@example.com\"], [\"Colette Browning\", 48539, \"colette@example.com\"], [\"Skye Homsi\", 58302, \"skye@example.com\"], [\"Hiroto Yamaguchi\", 48502, \"hiroto@example.com\"], [\"Tobias Ledford\", 48291, \"tobias@example.com\", \"Tamara Babic\", 58201, \"tamara@example.com\"], [\"Jin Xu\", 48293, \"jin@example.com\"], [\"Joana Dias\", 23945, \"joana@example.com\"], [\"Alton Derosa\", 85823, \"alton@example.com\"]]\n\ndata_dict={}\n\nfor i in range(len(data)):\n    data_dict[data[i][1]]=data[i][0]\n    \nprint(data_dict)",
      "execution_count": 17,
      "outputs": [
        {
          "output_type": "stream",
          "text": "{57394: 'Suresh Datta', 48291: 'Tobias Ledford', 48293: 'Jin Xu', 48502: 'Hiroto Yamaguchi', 23945: 'Joana Dias', 48539: 'Colette Browning', 58302: 'Skye Homsi', 85823: 'Alton Derosa'}\n",
          "name": "stdout"
        }
      ]
    },
    {
      "metadata": {
        "trusted": true
      },
      "cell_type": "code",
      "source": "# [ ] Use the `records` dictionary in a program that asks the user for an ID and prints the name of the associated employee.\n# Display an appropriate message if the ID is not found in the dictionary.\n\nrecords = {57394: 'Suresh Datta', 48539: 'Colette Browning', 58302: 'Skye Homsi', 48502: 'Hiroto Yamaguchi', 48291: 'Tobias Ledford', 48293: 'Jin Xu', 23945: 'Joana Dias', 85823: 'Alton Derosa'}\n\nID=int(input(\"enter an ID: \"))\n\nname=records[ID]\n\nprint(\"The name is {}\".format(name))",
      "execution_count": 20,
      "outputs": [
        {
          "output_type": "stream",
          "name": "stdout",
          "text": "enter an ID: 57394\nThe name is Suresh Datta\n"
        }
      ]
    },
    {
      "metadata": {
        "trusted": true
      },
      "cell_type": "code",
      "source": "# [ ] Use the `records` dictionary in a program to ask the user for an ID then delete the employee record associated with the ID\n# The program should display an appropriate message if the ID is not found in the dictionary.\n\nrecords = {57394: 'Suresh Datta', 48539: 'Colette Browning', 58302: 'Skye Homsi', 48502: 'Hiroto Yamaguchi', 48291: 'Tobias Ledford', 48293: 'Jin Xu', 23945: 'Joana Dias', 85823: 'Alton Derosa'}\n\nID=int(input(\"enter an ID: \"))\n\n\ntry:\n    name=records.pop(ID)\n    print(\"{}: {} was deleted from the records\".format(ID,name))\nexcept:\n    print(\"{:d} was not found in records\".format(ID))\n        \n\n",
      "execution_count": 22,
      "outputs": [
        {
          "output_type": "stream",
          "name": "stdout",
          "text": "enter an ID: 12345\n12345 was not found in records\n"
        }
      ]
    },
    {
      "metadata": {},
      "cell_type": "markdown",
      "source": "---\n<font size=\"6\" color=\"#00A0B2\"  face=\"verdana\"> <B>Concepts</B></font>  \n\n\n## Looping Over Dictionary Items\n\n\n[![view video](https://iajupyterprodblobs.blob.core.windows.net/imagecontainer/common/play_video.png)](https://www.youtube.com/watch?v=sRmMADRVbNo)\n\nYou can traverse the elements of a dictionary in much the same way you loop over the elements of a list or a tuple; however, with dictionaries you can use the keys, the values, or both keys and values when iterating over the dictionary elements."
    },
    {
      "metadata": {},
      "cell_type": "markdown",
      "source": "---\n<font size=\"6\" color=\"#00A0B2\"  face=\"verdana\"> <B>Examples</B></font>\n## Dictionary Iterations"
    },
    {
      "metadata": {},
      "cell_type": "markdown",
      "source": "### Iterating over the keys\n\nYou can iterate over all the keys of a dictionary using the `.keys()` method in a for loop. \n"
    },
    {
      "metadata": {
        "trusted": true
      },
      "cell_type": "code",
      "source": "D = {'Name':'Skye', 'Age':35, 'Temperature':98.7, 'Last Name': 'Babic'}\n\n# Iterate over the keys of D\nfor key in D.keys():\n    print(\"D[{}] = '{}'\".format(key, D[key]))",
      "execution_count": 32,
      "outputs": [
        {
          "output_type": "stream",
          "text": "D[Temperature] = '98.7'\nD[Age] = '35'\nD[Last Name] = 'Babic'\nD[Name] = 'Skye'\n",
          "name": "stdout"
        }
      ]
    },
    {
      "metadata": {},
      "cell_type": "markdown",
      "source": "### Iterating over the sorted keys\nPython stores the _key:value_ pairs of a dictionary in an order based on its optimization algorithm. You can use the `sorted` method to traverse the keys of a dictionary in a sorted order.\n\nIn the previous example, the keys were not printed alphabetically. In the following code snippet, we change the order by using the `sorted` method."
    },
    {
      "metadata": {
        "trusted": true
      },
      "cell_type": "code",
      "source": "D = {'Name':'Skye', 'Age':35, 'Temperature':98.7, 'Last Name': 'Babic'}\n\n# Iterate over the sorted keys of D \n# Keys sorted alphabetically because they are all strings\nfor key in sorted(D.keys()):\n    print(\"D[{}] = '{}'\".format(key, D[key]))",
      "execution_count": 33,
      "outputs": [
        {
          "output_type": "stream",
          "text": "D[Age] = '35'\nD[Last Name] = 'Babic'\nD[Name] = 'Skye'\nD[Temperature] = '98.7'\n",
          "name": "stdout"
        }
      ]
    },
    {
      "metadata": {},
      "cell_type": "markdown",
      "source": "### Iterating over the values\nYou can iterate over the elements of a dictionary using the values in the same way you did when iterating using the keys. This can be achieved using the `.values()` method.\n\nNOTE: Because the values in this example are of different types, you cannot sort them. If they were all of the same type, you could use the `sorted()` method to iterate over them in an ordered way."
    },
    {
      "metadata": {
        "trusted": true
      },
      "cell_type": "code",
      "source": "D = {'Name':'Skye', 'Age':35, 'Temperature':98.7, 'Last Name': 'Babic'}\nfor value in D.values():\n    print(value)",
      "execution_count": 34,
      "outputs": [
        {
          "output_type": "stream",
          "text": "98.7\n35\nBabic\nSkye\n",
          "name": "stdout"
        }
      ]
    },
    {
      "metadata": {},
      "cell_type": "markdown",
      "source": "### Iterating over the keys and values\nYou can iterate over the _key:value_ pairs of a dictionary using the `.items()` method. The method returns a tuple as `(key, value)` for each pair in the dictionary."
    },
    {
      "metadata": {
        "trusted": true
      },
      "cell_type": "code",
      "source": "D = {'Name':'Skye', 'Age':35, 'Temperature':98.7, 'Last Name': 'Babic'}\nfor (key, value) in D.items():\n    print(key,':', value)",
      "execution_count": 35,
      "outputs": [
        {
          "output_type": "stream",
          "text": "Temperature : 98.7\nAge : 35\nLast Name : Babic\nName : Skye\n",
          "name": "stdout"
        }
      ]
    },
    {
      "metadata": {},
      "cell_type": "markdown",
      "source": "Of course, because the (key, value) tuple in the `for` loop is just unpacking the returned tuple of `D.items`, you can drop the parentheses."
    },
    {
      "metadata": {
        "trusted": true
      },
      "cell_type": "code",
      "source": "D = {'Name':'Skye', 'Age':35, 'Temperature':98.7, 'Last Name': 'Babic'}\nfor key, value in D.items():\n    print(key,':', value)",
      "execution_count": 36,
      "outputs": [
        {
          "output_type": "stream",
          "text": "Temperature : 98.7\nAge : 35\nLast Name : Babic\nName : Skye\n",
          "name": "stdout"
        }
      ]
    },
    {
      "metadata": {},
      "cell_type": "markdown",
      "source": "## Tracking Grocery Prices\n\nIn this example, you will create a groceries dictionary, traverse it based on the keys (in a sorted way) and display the price for each of the items."
    },
    {
      "metadata": {
        "trusted": true
      },
      "cell_type": "code",
      "source": "# Create a dictionary of grocery items and associated prices\ngroceries = {'Bread':2.26, 'Milk':3.62, 'Chocolate':1.59}\n\n# Display the price for the items in a sorted order\nfor item in sorted(groceries.keys()):\n    print(\"{} = {:.2f}\".format(item, groceries[item]))",
      "execution_count": 37,
      "outputs": [
        {
          "output_type": "stream",
          "text": "Bread = 2.26\nChocolate = 1.59\nMilk = 3.62\n",
          "name": "stdout"
        }
      ]
    },
    {
      "metadata": {},
      "cell_type": "markdown",
      "source": "---\n<font size=\"6\" color=\"#B24C00\"  face=\"verdana\"> <B>Task 2</B></font>\n\n## Looping Over Dictionary Items"
    },
    {
      "metadata": {
        "trusted": true
      },
      "cell_type": "code",
      "source": "# [ ] The `data` list contains information about a company's employees\n# Use the `data` list and an appropriate loop to create a dictionary of\n# IDs (as keys): [name, email] (as values)\n\n# The resulting dictionary should look like: \n# {57394: ['Suresh Datta', 'suresh@example.com'], 48539: ['Colette Browning', 'colette@example.com'], 58302: ['Skye Homsi', 'skye@example.com'], 48502: ['Hiroto Yamaguchi', 'hiroto@example.com'], 48291: ['Tobias Ledford', 'tobias@example.com'], 48293: ['Jin Xu', 'jin@example.com'], 23945: ['Joana Dias', 'joana@example.com'], 85823: ['Alton Derosa', 'alton@example.com']}\n\ndata = [[\"Suresh Datta\", 57394, \"suresh@example.com\"], [\"Colette Browning\", 48539, \"colette@example.com\"], [\"Skye Homsi\", 58302, \"skye@example.com\"], [\"Hiroto Yamaguchi\", 48502, \"hiroto@example.com\"], [\"Tobias Ledford\", 48291, \"tobias@example.com\", \"Tamara Babic\", 58201, \"tamara@example.com\"], [\"Jin Xu\", 48293, \"jin@example.com\"], [\"Joana Dias\", 23945, \"joana@example.com\"], [\"Alton Derosa\", 85823, \"alton@example.com\"]]\n\nrecords={}\n\nfor i in data:\n    records[i[1]]=[i[0],i[2]]\n    \nprint(records)\n\n\n\n",
      "execution_count": 31,
      "outputs": [
        {
          "output_type": "stream",
          "text": "{57394: ['Suresh Datta', 'suresh@example.com'], 48291: ['Tobias Ledford', 'tobias@example.com'], 48293: ['Jin Xu', 'jin@example.com'], 48502: ['Hiroto Yamaguchi', 'hiroto@example.com'], 23945: ['Joana Dias', 'joana@example.com'], 48539: ['Colette Browning', 'colette@example.com'], 58302: ['Skye Homsi', 'skye@example.com'], 85823: ['Alton Derosa', 'alton@example.com']}\n",
          "name": "stdout"
        }
      ]
    },
    {
      "metadata": {
        "trusted": true
      },
      "cell_type": "code",
      "source": "# [ ] Write a program to display the content of the `records` dictionary as shown here\n# Note the IDs are sorted in an ascending order\n\n'''\n        Name         |     ID     |        Email        \n________________________________________________________\n     Joana Dias      |   23945    |    joana@example.com\n   Tobias Ledford    |   48291    |   tobias@example.com\n       Jin Xu        |   48293    |      jin@example.com\n  Hiroto Yamaguchi   |   48502    |   hiroto@example.com\n  Colette Browning   |   48539    |  colette@example.com\n    Suresh Datta     |   57394    |   suresh@example.com\n     Skye Homsi      |   58302    |     skye@example.com\n    Alton Derosa     |   85823    |    alton@example.com\n'''\nrecords = {57394: ['Suresh Datta', 'suresh@example.com'], 48539: ['Colette Browning', 'colette@example.com'], 58302: ['Skye Homsi', 'skye@example.com'], 48502: ['Hiroto Yamaguchi', 'hiroto@example.com'], 48291: ['Tobias Ledford', 'tobias@example.com'], 48293: ['Jin Xu', 'jin@example.com'], 23945: ['Joana Dias', 'joana@example.com'], 85823: ['Alton Derosa', 'alton@example.com']}\n\nprint(\"{0:^20s}|{1:^10s}|{2:^20s}\".format(\"Name\",\"ID\",\"Email\"))\nprint(\"_\"*52)\nfor i in sorted(records.keys()):\n    print(\"{0:^20s}|{1:^10d}|{2:>20s}\".format(records[i][0],i,records[i][1]))\n\n",
      "execution_count": 49,
      "outputs": [
        {
          "output_type": "stream",
          "text": "        Name        |    ID    |       Email        \n____________________________________________________\n     Joana Dias     |  23945   |   joana@example.com\n   Tobias Ledford   |  48291   |  tobias@example.com\n       Jin Xu       |  48293   |     jin@example.com\n  Hiroto Yamaguchi  |  48502   |  hiroto@example.com\n  Colette Browning  |  48539   | colette@example.com\n    Suresh Datta    |  57394   |  suresh@example.com\n     Skye Homsi     |  58302   |    skye@example.com\n    Alton Derosa    |  85823   |   alton@example.com\n",
          "name": "stdout"
        }
      ]
    },
    {
      "metadata": {
        "trusted": true
      },
      "cell_type": "code",
      "source": "# [ ] The company's domain has changed from (example.com) to (example.org)\n# Write a program to modify the email addresses in the `records` dictionary to reflect this change\n\nrecords = {57394: ['Suresh Datta', 'suresh@example.com'], 48539: ['Colette Browning', 'colette@example.com'], 58302: ['Skye Homsi', 'skye@example.com'], 48502: ['Hiroto Yamaguchi', 'hiroto@example.com'], 48291: ['Tobias Ledford', 'tobias@example.com'], 48293: ['Jin Xu', 'jin@example.com'], 23945: ['Joana Dias', 'joana@example.com'], 85823: ['Alton Derosa', 'alton@example.com']}\n\nfor i in records.keys():\n    email=records[i][1]\n    x=email.split('com')[0]\n    y=x+'org'\n    records[i][1]=y\nprint(records)\n    ",
      "execution_count": 51,
      "outputs": [
        {
          "output_type": "stream",
          "text": "{57394: ['Suresh Datta', 'suresh@example.org'], 48291: ['Tobias Ledford', 'tobias@example.org'], 48293: ['Jin Xu', 'jin@example.org'], 48502: ['Hiroto Yamaguchi', 'hiroto@example.org'], 23945: ['Joana Dias', 'joana@example.org'], 48539: ['Colette Browning', 'colette@example.org'], 58302: ['Skye Homsi', 'skye@example.org'], 85823: ['Alton Derosa', 'alton@example.org']}\n",
          "name": "stdout"
        }
      ]
    },
    {
      "metadata": {
        "trusted": true
      },
      "cell_type": "code",
      "source": "# [ ] You want to send a mass email to all company employees, so you need a list of all the email addresses in `records`\n# Write a program to extract the email addresses from the `records` dictionary and store them in a list\n\n# The output list should look like:\n# ['suresh@example.com', 'colette@example.com', 'skye@example.com', 'hiroto@example.com', 'tobias@example.com', 'jin@example.com', 'joana@example.com', 'alton@example.com']\n\n# Hint: use the `.values()` method\n\nrecords = {57394: ['Suresh Datta', 'suresh@example.com'], 48539: ['Colette Browning', 'colette@example.com'], 58302: ['Skye Homsi', 'skye@example.com'], 48502: ['Hiroto Yamaguchi', 'hiroto@example.com'], 48291: ['Tobias Ledford', 'tobias@example.com'], 48293: ['Jin Xu', 'jin@example.com'], 23945: ['Joana Dias', 'joana@example.com'], 85823: ['Alton Derosa', 'alton@example.com']}\n\nemail=[]\n\nfor i in sorted(records.values()):\n    email.append(i[1])\nprint(email)\n",
      "execution_count": 55,
      "outputs": [
        {
          "output_type": "stream",
          "text": "['alton@example.com', 'colette@example.com', 'hiroto@example.com', 'jin@example.com', 'joana@example.com', 'skye@example.com', 'suresh@example.com', 'tobias@example.com']\n",
          "name": "stdout"
        }
      ]
    },
    {
      "metadata": {},
      "cell_type": "markdown",
      "source": "---\n<font size=\"6\" color=\"#00A0B2\"  face=\"verdana\"> <B>Concepts</B></font>  \n\n\n## Dictionary Operations and Functions\n\n\n[![view video](https://iajupyterprodblobs.blob.core.windows.net/imagecontainer/common/play_video.png)](https://www.youtube.com/watch?v=SG0KQXGMXRM)\n\nPython supports several functions and dictionary operations such as containment, identity, and dictionary length. You will explore some of them in the following examples."
    },
    {
      "metadata": {},
      "cell_type": "markdown",
      "source": "---\n<font size=\"6\" color=\"#00A0B2\"  face=\"verdana\"> <B>Examples</B></font>\n"
    },
    {
      "metadata": {},
      "cell_type": "markdown",
      "source": "### Containment (`in`, `not in`)\n\n"
    },
    {
      "metadata": {},
      "cell_type": "markdown",
      "source": "#### _key_ containment\nYou can test if a value is one of the dictionary keys by using the (`in`) and (`not in`) containment operators. \n\nWhen testing the containment, you can use the `.keys()` method or just the name of the dictionary, Python will generate the same results. "
    },
    {
      "metadata": {
        "trusted": true
      },
      "cell_type": "code",
      "source": "# Create a dictionary of grocery items and associated prices\ngroceries = {'Bread':2.26, 'Milk':3.62, 'Chocolate':1.59}\n\nitem = input(\"Please enter an item name: \")\n\n# Using .keys()\nif (item in groceries.keys()):\n    print(\"Price of {} is: ${:4.2f}\".format(item, groceries[item]))\nelif (item not in groceries):\n    print(\"Price not in the dictionary\")",
      "execution_count": 57,
      "outputs": [
        {
          "output_type": "stream",
          "name": "stdout",
          "text": "Please enter an item name: Milk\nPrice of Milk is: $3.62\n"
        }
      ]
    },
    {
      "metadata": {
        "trusted": true
      },
      "cell_type": "code",
      "source": "# Create a dictionary of grocery items and associated prices\ngroceries = {'Bread':2.26, 'Milk':3.62, 'Chocolate':1.59}\n\nitem = input(\"Please enter a item: \")\n\n# Without using .keys()\nif (item in groceries):\n    print(\"Price of {} is: ${:4.2f}\".format(item, groceries[item]))\nelif (item not in groceries):\n    print(\"Price not in the dictionary\")",
      "execution_count": 59,
      "outputs": [
        {
          "output_type": "stream",
          "name": "stdout",
          "text": "Please enter a item: Coffee\nPrice not in the dictionary\n"
        }
      ]
    },
    {
      "metadata": {},
      "cell_type": "markdown",
      "source": "#### _value_ containment\nYou can test if a value is one of the dictionary values by using the (`in`) and (`not in`) containment operators and the `.values()` method. Unlike _key_ containment, you cannot use only the dictionary name."
    },
    {
      "metadata": {
        "trusted": true
      },
      "cell_type": "code",
      "source": "# Create a dictionary of grocery items and associated prices\ngroceries = {'Bread':2.26, 'Milk':3.62, 'Chocolate':1.59}\n\nprice = float(input(\"Please enter an exact price: \"))\n\nif (price in groceries.values()):\n    print(\"There is a matching grocery\")\nelse:\n    print(\"There are no groceries matching this price\")",
      "execution_count": 61,
      "outputs": [
        {
          "output_type": "stream",
          "name": "stdout",
          "text": "Please enter an exact price: 1.59\nThere is a matching grocery\n"
        }
      ]
    },
    {
      "metadata": {},
      "cell_type": "markdown",
      "source": "### Identity (`is`) and equality (`==`)\n\nWhen comparing two tuples or lists using the equality operator `==`, the result would be `True` if and only if both sequences had the same exact elements and in the same order. Of course, being equal does not indicate that the sequences are identical as you saw earlier.\n\nFor dictionaries, the order of the items is not important. Thus, two dictionaries can be equal despite the fact that they store the elements in a different order. Identity of dictionaries is the same as identities of tuples and lists; changing one of two identical dictionaries will also change the other."
    },
    {
      "metadata": {
        "trusted": true
      },
      "cell_type": "code",
      "source": "# Create 2 equal but not identical dictionaries\nD1 = {0:'number 0', 1:'number 1', 2:'number 2'}\nD2 = {1:'number 1', 0:'number 0', 2:'number 2'}\n\nprint(\"Equality: D1 == D2 ?\", D1 == D2)\nprint(\"Identity: D1 is D2 ?\", D1 is D2)",
      "execution_count": 62,
      "outputs": [
        {
          "output_type": "stream",
          "text": "Equality: D1 == D2 ? True\nIdentity: D1 is D2 ? False\n",
          "name": "stdout"
        }
      ]
    },
    {
      "metadata": {
        "trusted": true
      },
      "cell_type": "code",
      "source": "# Create 2 equal and identical dictionaries\nD1 = {0:'number 0', 1:'number 1', 2:'number 2'}\nD2 = D1\nD1[0] = 'changed number'\n\nprint(\"Equality: D1 == D2 ?\", D1 == D2)\nprint(\"Identity: D1 is D2 ?\", D1 is D2)\n\nprint(\"D2 after changing D1:\", D2)",
      "execution_count": 63,
      "outputs": [
        {
          "output_type": "stream",
          "text": "Equality: D1 == D2 ? True\nIdentity: D1 is D2 ? True\nD2 after changing D1: {0: 'changed number', 1: 'number 1', 2: 'number 2'}\n",
          "name": "stdout"
        }
      ]
    },
    {
      "metadata": {},
      "cell_type": "markdown",
      "source": "### Length of a dictionary\nThe length of a dictionary is the number of key:value pairs it contains. You can find out this number by using the `len()` function."
    },
    {
      "metadata": {
        "trusted": true
      },
      "cell_type": "code",
      "source": "# Create a dictionary of grocery items and associated prices\ngroceries = {'Bread':2.26, 'Milk':3.62, 'Chocolate':1.59}\n\n# The length of a dictionary = how many key:value pairs it has\nprint(\"{} groceries total\".format(len(groceries)))",
      "execution_count": 64,
      "outputs": [
        {
          "output_type": "stream",
          "text": "3 groceries total\n",
          "name": "stdout"
        }
      ]
    },
    {
      "metadata": {},
      "cell_type": "markdown",
      "source": "---\n<font size=\"6\" color=\"#B24C00\"  face=\"verdana\"> <B>Task 3</B></font>\n\n## Dictionary Operations and Functions"
    },
    {
      "metadata": {
        "trusted": true
      },
      "cell_type": "code",
      "source": "# Write a program that can ONLY update the price of an existing grocery \n# in the `groceries` dictionary.\n# The item and updated price should be entered by the user.\n# If the user enters a new item, the program should not create \n# a new dictionary item. It should instead display an error message.\n\ngroceries = {'Bread':2.26, 'Milk':3.62, 'Chocolate':1.59}\n\nitem=input(\"Please enter an item name: \")\n\nif item in groceries:\n    price=input(\"Please enter a new price for this item: \")\n    groceries[item]=float(price)\n    print(\"Updated dictionary:\",groceries)\nelif item not in groceries:\n    print(\"Item not in the grocercies dictionary\")\n\n\n",
      "execution_count": 9,
      "outputs": [
        {
          "output_type": "stream",
          "name": "stdout",
          "text": "Please enter an item name: Milk\nPlease enter a new price for this item: 5.6\nUpdated dictionary: {'Chocolate': 1.59, 'Bread': 2.26, 'Milk': 5.6}\n"
        }
      ]
    },
    {
      "metadata": {
        "trusted": true
      },
      "cell_type": "code",
      "source": "# [ ] Write a program to find out the number of employees stored in `records`.\n\nrecords = {57394: ['Suresh Datta', 'suresh@example.com'], 48539: ['Colette Browning', 'colette@example.com'], 58302: ['Skye Homsi', 'skye@example.com'], 48502: ['Hiroto Yamaguchi', 'hiroto@example.com'], 48291: ['Tobias Ledford', 'tobias@example.com'], 48293: ['Jin Xu', 'jin@example.com'], 23945: ['Joana Dias', 'joana@example.com'], 85823: ['Alton Derosa', 'alton@example.com']}\n\nnumber=len(records)\n\nprint(\"There are {:d} employees stored in 'records'.\".format(number))",
      "execution_count": 11,
      "outputs": [
        {
          "output_type": "stream",
          "text": "There are 8 employees stored in 'records'.\n",
          "name": "stdout"
        }
      ]
    }
  ],
  "metadata": {
    "kernelspec": {
      "name": "python3",
      "display_name": "Python 3",
      "language": "python"
    },
    "language_info": {
      "mimetype": "text/x-python",
      "nbconvert_exporter": "python",
      "name": "python",
      "pygments_lexer": "ipython3",
      "version": "3.5.4",
      "file_extension": ".py",
      "codemirror_mode": {
        "version": 3,
        "name": "ipython"
      }
    }
  },
  "nbformat": 4,
  "nbformat_minor": 2
}