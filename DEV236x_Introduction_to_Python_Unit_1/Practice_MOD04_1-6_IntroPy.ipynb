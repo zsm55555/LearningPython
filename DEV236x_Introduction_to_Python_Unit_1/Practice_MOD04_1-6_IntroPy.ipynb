{
  "cells": [
    {
      "metadata": {},
      "cell_type": "markdown",
      "source": "# 1-6.2 Intro Python Practice\n## Nested Conditionals\n<font size=\"5\" color=\"#00A0B2\"  face=\"verdana\"> <B>Student will be able to</B></font>\n- create nested conditional logic in code  \n- print format print using escape sequence (**\\**)"
    },
    {
      "metadata": {},
      "cell_type": "markdown",
      "source": "# &nbsp;\n<font size=\"6\" color=\"#B24C00\"  face=\"verdana\"> <B>Tasks</B></font>  "
    },
    {
      "metadata": {
        "trusted": true
      },
      "cell_type": "code",
      "source": "# [ ] print a string that outputs the following exactly: The new line character is \"\\n\"\n\nprint(\"The new line character is \\\"\\\\n\\\"\")",
      "execution_count": null,
      "outputs": []
    },
    {
      "metadata": {
        "trusted": true
      },
      "cell_type": "code",
      "source": "# [ ] print output that is exactly (with quotes): \"That's how we escape!\"\n\nprint(\"\\\"That\\'s how we escape!\\\"\")",
      "execution_count": null,
      "outputs": []
    },
    {
      "metadata": {
        "trusted": true
      },
      "cell_type": "code",
      "source": "# [ ] with only 1 print statement and using No Space Characters, output the text commented below  \n\n# 1       one\n# 22      two\n# 333     three\n\nprint(\"1\\tone\")\nprint(\"22\\ttwo\")\nprint(\"333\\tthree\")\n",
      "execution_count": null,
      "outputs": []
    },
    {
      "metadata": {},
      "cell_type": "markdown",
      "source": "# &nbsp;\n## Program: quote_me() Function\nquote_me takes a string argument and returns a string that will display surrounded with **added double quotes** if printed  \n- check if passed string starts with a double quote (`\"\\\"\"`), then surround string with single quotations \n- if the passed string starts with single quote, or if doesn't start with a quotation mark, then surround with double quotations  \n\nTest the function code passing string input as the argument to quote_me() "
    },
    {
      "metadata": {
        "trusted": true
      },
      "cell_type": "code",
      "source": "# [ ] create and test quote_me()\n\ndef quote_me(s):\n    if s.startswith(\"\\\"\"):\n        print(\"\\'\"+user+\"\\'\")\n    elif s.startswith(\"\\'\"):\n        print(\"\\\"\"+user+\"\\\"\")\n    else:\n        print(\"\\\"\"+user+\"\\\"\")\n        \nuser=input(\"enter a string: \")\nquote_me(user)\n",
      "execution_count": null,
      "outputs": []
    },
    {
      "metadata": {},
      "cell_type": "markdown",
      "source": "# &nbsp;\n### Program: shirt order \nFirst get input for color and size  \n- White has sizes L, M \n- Blue has sizes M, S  \n\nprint available or unavailable, then  \nprint the order confirmation of color and size  \n\n*\n**hint**: set a variable \"available = False\" before nested if statements and  \nchange to True if color and size are avaliable*"
    },
    {
      "metadata": {
        "trusted": true
      },
      "cell_type": "code",
      "source": "# [ ] create shirt order using nested if \n\ncolor = input(\"Choose color between white and blue: \")\nsize = input(\"Choose size: \")\navailable = False\nwhile not available:\n    if color.lower() == \"white\":\n        if size.upper() == \"M\" or size.upper() == \"L\":\n            print(\"available\")\n            print(\"Your order is:\",color,size)\n            available = True           \n        else:\n            print(\"unavailable\")\n            break\n    elif color.lower() == \"blue\":\n        if size.upper() == \"M\" or size.upper() == \"S\":\n            print(\"available\")\n            print(\"Your order is:\",color,size)\n            available = True\n        else:\n            print(\"unavailable\")\n            break\n    else:\n        print(\"Please choose the correct color!\")\n        break\n",
      "execution_count": null,
      "outputs": []
    },
    {
      "metadata": {},
      "cell_type": "markdown",
      "source": "# &nbsp;\n## Program: str_analysis() Function\nCreate the str_analysis() function that takes a string argument.  In the body of the function:\n- Check `if` string is digits  \n  - if digits: convert to `int` and check `if` greater than 99  \n    - if greater than 99, print a message about a \"big number\"  \n    - if not greater than 99, print message about \"small number\"    \n  - if not digits: check if string isalpha\n    - if isalpha print message about being all alpha\n    - if not isalpha print a message about being neither all alpha nor all digit  \n    \ncall the function with a string from user input "
    },
    {
      "metadata": {
        "trusted": true
      },
      "cell_type": "code",
      "source": "# [ ] create and test str_analysis()\n\ndef str_analysis(string):\n    if string.isdigit():\n        if int(string)>99:\n            print(\"big number\")\n        else:\n            print(\"small number\")\n    elif string.isalpha():\n        print(\"your input is all alpha\")\n    else:\n        print(\"your input is neither all alpha nor all digit\")\n\nuser=input(\"enter something: \")\nstr_analysis(user)",
      "execution_count": null,
      "outputs": []
    },
    {
      "metadata": {
        "collapsed": true
      },
      "cell_type": "markdown",
      "source": "# &nbsp;  \n### Program: ticket_check() - finds out if a seat is available  \nCall ticket_check() function with 2 arguments: *section* and *seats* requested and return True or False  \n- **section** is a string and expects: general, floor\n- **seats** is an integer and expects: 1 - 10  \n\nCheck for valid section and seats\n- if section is *general* (or use startswith \"g\")  \n  - if seats is 1-10 return True \n- if section is *floor* (or use starts with \"f\")\n  - if seats is 1-4 return True  \n\notherwise return False"
    },
    {
      "metadata": {
        "trusted": true
      },
      "cell_type": "code",
      "source": "# [ ] create and call ticket_check()\n\ndef ticket_check(section,seats):\n    if section.startswith(\"g\"):\n        if seats in \"1,2,3,4,5,6,7,8,9,10\":\n            return True\n        else:\n            return False\n    elif section.startswith(\"f\"):\n        if seats in \"1,2,3,4\":\n            return True\n        else:\n            return False\n    else:\n        return False\n    \nsection=input(\"enter a section: \")\nseats=input(\"enter a seat number: \")\n\nticket_check(section,seats)\n        \n    ",
      "execution_count": 5,
      "outputs": [
        {
          "output_type": "stream",
          "name": "stdout",
          "text": "enter a section: floor\nenter a seat number: 4\n"
        },
        {
          "output_type": "execute_result",
          "execution_count": 5,
          "data": {
            "text/plain": "True"
          },
          "metadata": {}
        }
      ]
    },
    {
      "metadata": {
        "collapsed": true
      },
      "cell_type": "markdown",
      "source": "[Terms of use](http://go.microsoft.com/fwlink/?LinkID=206977) &nbsp; [Privacy & cookies](https://go.microsoft.com/fwlink/?LinkId=521839) &nbsp; © 2017 Microsoft"
    }
  ],
  "metadata": {
    "anaconda-cloud": {},
    "kernelspec": {
      "name": "python3",
      "display_name": "Python 3",
      "language": "python"
    },
    "language_info": {
      "mimetype": "text/x-python",
      "nbconvert_exporter": "python",
      "name": "python",
      "pygments_lexer": "ipython3",
      "version": "3.5.4",
      "file_extension": ".py",
      "codemirror_mode": {
        "version": 3,
        "name": "ipython"
      }
    }
  },
  "nbformat": 4,
  "nbformat_minor": 1
}