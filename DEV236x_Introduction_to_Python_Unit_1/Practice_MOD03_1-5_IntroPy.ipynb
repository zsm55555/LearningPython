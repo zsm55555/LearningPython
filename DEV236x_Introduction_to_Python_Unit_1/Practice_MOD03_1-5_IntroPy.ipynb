{
  "cells": [
    {
      "metadata": {},
      "cell_type": "markdown",
      "source": "# 1-5 Intro Python Practice  \n## conditionals, type, and mathematics extended   \n&nbsp;\n<font size=\"5\" color=\"#00A0B2\"  face=\"verdana\"> <B>Student will be able to</B></font>  \n- code more than two choices using **`elif`** \n- gather numeric input using type casting  \n- perform subtraction, multiplication and division operations in code  &nbsp;  \n"
    },
    {
      "metadata": {},
      "cell_type": "markdown",
      "source": "# &nbsp;  \n<font size=\"6\" color=\"#B24C00\"  face=\"verdana\"> <B>Tasks</B></font>"
    },
    {
      "metadata": {},
      "cell_type": "markdown",
      "source": "### Rainbow colors\nask for input of a favorite rainbow color first letter: ROYGBIV  \n\nUsing `if`, `elif`, and `else`:  \n- print the color matching the letter  \n    - R = Red  \n    - O = Orange  \n    - Y = Yellow  \n    - G = Green\n    - B = Blue\n    - I = Indigo\n    - V = Violet\n    - else print \"no match\"\n"
    },
    {
      "metadata": {
        "trusted": true
      },
      "cell_type": "code",
      "source": "# [ ] complete rainbow colors\nfirst_ltr=input(\"enter the first letter of your favorite rainbow color (ROYGBIV): \")\nif first_ltr==\"R\":\n    print(\"Red\")\nelif first_ltr==\"O\":\n    print(\"Orange\")\nelif first_ltr==\"Y\":\n    print(\"Yellow\")\nelif first_ltr==\"G\":\n    print(\"Green\")\nelif first_ltr==\"B\":\n    print(\"Blue\")\nelif first_ltr==\"I\":\n    print(\"Indigo\")\nelif first_ltr==\"V\":\n    print(\"Violet\")\nelse:\n    print(\"no match\")\n\n",
      "execution_count": null,
      "outputs": []
    },
    {
      "metadata": {
        "trusted": true
      },
      "cell_type": "code",
      "source": "# [ ] make the code above into a function rainbow_color() that has a string parameter, \n# get input and call the function and return the matching color as a string or \"no match\" message.\n# Call the function and print the return string.\n\ndef rainbow_color(ltr):\n    if ltr==\"R\":\n        print(\"Red\")\n    elif ltr==\"O\":\n        print(\"Orange\")\n    elif ltr==\"Y\":\n        print(\"Yellow\")\n    elif ltr==\"G\":\n        print(\"Green\")\n    elif ltr==\"B\":\n        print(\"Blue\")\n    elif ltr==\"I\":\n        print(\"Indigo\")\n    elif ltr==\"V\":\n        print(\"Violet\")\n    else:\n        print(\"no match\")\n\nfirst_ltr=input(\"enter the first letter of your favorite rainbow color (ROYGBIV): \")\nrainbow_color(first_ltr)",
      "execution_count": null,
      "outputs": []
    },
    {
      "metadata": {},
      "cell_type": "markdown",
      "source": "# &nbsp;  \n**Create function age_20() that adds or subtracts 20 from your age for a return value based on current age** (use `if`) \n- call the funtion with user input and then use the return value in a sentence  \nexample `age_20(25)` returns **5**: \n> \"5 years old, 20 years difference from now\""
    },
    {
      "metadata": {
        "trusted": true
      },
      "cell_type": "code",
      "source": "# [ ] complete age_20()\n\ndef age_20(age):\n    if age>20:\n        result=age-20\n        print(result,\"years old, 20 years difference from now\")\n    else:\n        result=20-age\n        print(result,\"years old,20 years difference from now\")\n\nuser=input(\"enter your age: \")\nage_20(int(user))\n",
      "execution_count": null,
      "outputs": []
    },
    {
      "metadata": {},
      "cell_type": "markdown",
      "source": "**create a function rainbow_or_age that takes a string argument**\n- if argument is a digit return the value of calling age_20() with the str value cast as **`int`** \n- if argument is an alphabetical character return the value of calling rainbow_color() with the str\n- if neither return FALSE"
    },
    {
      "metadata": {
        "trusted": true
      },
      "cell_type": "code",
      "source": "# [ ]  create rainbow_or_age()\n\ndef rainbow_or_age(ltr):\n    if ltr.isdigit():\n        age_20(int(ltr))\n    elif ltr.isalpha():\n        rainbow_color(ltr)\n    else:\n        return (False)\n\nuser=input(\"enter something: \")\nrainbow_or_age(user)\n    ",
      "execution_count": null,
      "outputs": []
    },
    {
      "metadata": {
        "trusted": true
      },
      "cell_type": "code",
      "source": "# [ ]  add 2 numbers from input using a cast to integer and display the answer \n\nnum_1=input(\"enter a number: \")\nnum_2=input(\"enter another number: \")\nadd=int(num_1)+int(num_2)\nprint(add)",
      "execution_count": null,
      "outputs": []
    },
    {
      "metadata": {
        "trusted": true
      },
      "cell_type": "code",
      "source": "# [ ] Multiply 2 numbers from input using cast and save the answer as part of a string \"the answer is...\"\n# display the string using print\n\nnum_1=input(\"enter a number: \")\nnum_2=input(\"enter another number: \")\nmultiply=int(num_1)*int(num_2)\nprint(\"The answer is\",multiply)",
      "execution_count": 10,
      "outputs": [
        {
          "output_type": "stream",
          "name": "stdout",
          "text": "enter a number: 9\nenter another number: 8\nThe answer is 72\n"
        }
      ]
    },
    {
      "metadata": {
        "trusted": true
      },
      "cell_type": "code",
      "source": "# [ ] get input of 2 numbers and display the average: (num1 + num2) divided by 2\nnum_1=input(\"enter a number: \")\nnum_2=input(\"enter another number: \")\naverage=(int(num_1)+int(num_2))/2\nprint(\"The answer is\",average)\n",
      "execution_count": null,
      "outputs": []
    },
    {
      "metadata": {
        "trusted": true
      },
      "cell_type": "code",
      "source": "# [ ] get input of 2 numbers and subtract the largest from the smallest (use an if statement to see which is larger)\n# show the answer\nnum_1=input(\"enter a number: \")\nnum_2=input(\"enter another number: \")\nif num_1>num_2:\n    subtract=int(num_1)-int(num_2)\nelse:\n    subtract=int(num_2)-int(num_1)\nprint(\"The answer is\",subtract)\n",
      "execution_count": 8,
      "outputs": [
        {
          "output_type": "stream",
          "name": "stdout",
          "text": "enter a number: 1\nenter another number: 9\nThe answer is 8\n"
        }
      ]
    },
    {
      "metadata": {
        "trusted": true
      },
      "cell_type": "code",
      "source": "# [ ] Divide a larger number by a smaller number and print the integer part of the result\n# don't divide by zero! if a zero is input make the result zero\n# [ ] cast the answer to an integer to cut off the decimals and print the result\n\nnum_1=input(\"enter a number: \")\nnum_2=input(\"enter another number: \")\nif num_1>num_2:\n    divide=int(num_2)/int(num_1)\n    print(\"The answer is\",int(divide))\nelif int(num_1)*int(num_2)==0:\n    print(\"Invalid input: don't enter '0'\")\nelse:\n    divide=int(num_1)/int(num_2)\n    print(\"The answer is\",int(divide))",
      "execution_count": 24,
      "outputs": [
        {
          "output_type": "stream",
          "name": "stdout",
          "text": "enter a number: 2\nenter another number: 10\nThe answer is 5\n"
        }
      ]
    },
    {
      "metadata": {},
      "cell_type": "markdown",
      "source": "[Terms of use](http://go.microsoft.com/fwlink/?LinkID=206977) &nbsp; [Privacy & cookies](https://go.microsoft.com/fwlink/?LinkId=521839) &nbsp; © 2017 Microsoft"
    }
  ],
  "metadata": {
    "anaconda-cloud": {},
    "kernelspec": {
      "name": "python3",
      "display_name": "Python 3",
      "language": "python"
    },
    "language_info": {
      "mimetype": "text/x-python",
      "nbconvert_exporter": "python",
      "name": "python",
      "pygments_lexer": "ipython3",
      "version": "3.5.4",
      "file_extension": ".py",
      "codemirror_mode": {
        "version": 3,
        "name": "ipython"
      }
    }
  },
  "nbformat": 4,
  "nbformat_minor": 1
}