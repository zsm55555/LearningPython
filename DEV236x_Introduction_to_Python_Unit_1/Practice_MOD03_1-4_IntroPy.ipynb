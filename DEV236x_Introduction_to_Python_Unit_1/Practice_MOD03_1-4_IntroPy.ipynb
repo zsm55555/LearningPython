{
  "cells": [
    {
      "metadata": {},
      "cell_type": "markdown",
      "source": "# 1-4.3 Intro Python Practice\n## Conditionals \n<font size=\"5\" color=\"#00A0B2\"  face=\"verdana\"> <B>Student will be able to</B></font>  \n- **control code flow with `if`... `else` conditional logic**  \n  - using Boolean string methods (`.isupper(), .isalpha(), .startswith()...`)  \n  - using comparision (`>, <, >=, <=, ==, !=`)  \n  - using Strings in comparisons  "
    },
    {
      "metadata": {},
      "cell_type": "markdown",
      "source": "## `if else`\n"
    },
    {
      "metadata": {
        "trusted": true
      },
      "cell_type": "code",
      "source": "# [ ] input avariable: age as digit and cast to int\n# if age greater than or equal to 12 then print message on age in 10 years \n# or else print message \"It is good to be\" age\n\n\nage=int(input(\"Please enter your age: \"))\n\nif age>=12:\n    print(\"You will be\",age+10,\"in 10 years\")\nelse:\n    print(\"It is good to be\",age)\n\n",
      "execution_count": null,
      "outputs": []
    },
    {
      "metadata": {
        "trusted": true
      },
      "cell_type": "code",
      "source": "# [ ] input a number \n# if number IS a digit string then cast to int\n# print number \"greater than 100 is\" True/False\n# if number is NOT a digit string then message the user that \"only int is accepted\"\n\n\nnumber=input(\"Enter a number: \")\nif number.isdigit():\n    print(number,\"greater than 100 is\",number>\"100\")\nelse:\n    print(\"only int is accepted\")\n",
      "execution_count": null,
      "outputs": []
    },
    {
      "metadata": {},
      "cell_type": "markdown",
      "source": "### Guessing a letter A-Z  \n**check_guess()** takes 2 string arguments: **letter and guess** (both expect single alphabetical character)   \n    - if guess is not an alpha character print invalid and return False\n    - test and print if guess is \"high\" or \"low\" and return False\n    - test and print if guess is \"correct\" and return True"
    },
    {
      "metadata": {
        "trusted": true
      },
      "cell_type": "code",
      "source": "# [ ] create check_guess()\n# call with test\n\ndef check_guess(letter,guess):\n    if guess.isalpha():\n        if guess!=letter:\n            return False\n        else:\n            return True\n    else:\n        print(\"Invalid input\")\n        return False\n        \ncheck_guess(\"sss\",\"1\")\n    \n",
      "execution_count": 1,
      "outputs": [
        {
          "output_type": "stream",
          "text": "Invalid input\n",
          "name": "stdout"
        },
        {
          "output_type": "execute_result",
          "execution_count": 1,
          "data": {
            "text/plain": "False"
          },
          "metadata": {}
        }
      ]
    },
    {
      "metadata": {
        "trusted": true
      },
      "cell_type": "code",
      "source": "# [ ] call check_guess with user input\n\nuser=input(\"Please guess a letter: \")\ncheck_guess(\"Z\",user)",
      "execution_count": 3,
      "outputs": [
        {
          "output_type": "stream",
          "name": "stdout",
          "text": "Please guess a letter: Z\n"
        },
        {
          "output_type": "execute_result",
          "execution_count": 3,
          "data": {
            "text/plain": "True"
          },
          "metadata": {}
        }
      ]
    },
    {
      "metadata": {},
      "cell_type": "markdown",
      "source": "### Letter Guess\n**create letter_guess() function that gives user 3 guesses**\n- takes a letter character argument for the answer letter\n- gets user input for letter guess  \n- calls check_guess() with answer and guess\n- End letter_guess if \n    - check_guess() equals True, return True  \n    - or after 3 failed attempts, return False"
    },
    {
      "metadata": {
        "trusted": true
      },
      "cell_type": "code",
      "source": "# [ ] create letter_guess() function, call the function to test\ndef check_guess(letter,guess):\n    if guess.isalpha():\n        if guess!=letter:\n            return False\n        else:\n            return True\n    else:\n        print(\"Invalid input\")\n        return False\n\ndef letter_guess(letter):\n    user=input(\"Please guess the letter: \")\n    if check_guess(letter,user):\n        return True\n    else:\n        user=input(\"Please try again: \")\n        if check_guess(letter,user):\n            return True\n        else:\n            user=input(\"Please try one more time: \")\n            if check_guess(letter,user):\n                return True\n            else:\n                print(\"You failed 3 attempes.\") \n                return False\n\nletter_guess(\"Z\")",
      "execution_count": 12,
      "outputs": [
        {
          "output_type": "stream",
          "name": "stdout",
          "text": "Please guess the letter: 2\nInvalid input\nPlease try again: d\nPlease try one more time: z\nYou failed 3 attempes.\n"
        },
        {
          "output_type": "execute_result",
          "execution_count": 12,
          "data": {
            "text/plain": "False"
          },
          "metadata": {}
        }
      ]
    },
    {
      "metadata": {},
      "cell_type": "markdown",
      "source": "### Pet Conversation\n**ask the user for a sentence about a pet and then reply**  \n- get user input in variable: about_pet\n- using a series of **if** statements respond with appropriate conversation\n  - check if \"dog\" is in the string about_pet (sample reply \"Ah, a dog\")\n  - check if \"cat\" is in the string about_pet\n  - check if 1 or more animal is in string about_pet\n- no need for **else**'s\n- finish with thanking for the story"
    },
    {
      "metadata": {
        "trusted": true
      },
      "cell_type": "code",
      "source": "# [ ] complete pet conversation\n\nabout_pet=input(\"Please say something about your pet: \")\nhas_dog=\"dog\" in about_pet.lower()\nhas_cat=\"cat\" in about_pet.lower()\n\n\nif has_dog:\n    if has_cat:\n        print(\"There is more than one pet!\")\n    else:\n        print(\"Ah, a dog\")\nelif has_cat:\n    print(\"Ah, a cat\")\n    \nprint(\"Thanks for the story!\")\n",
      "execution_count": 19,
      "outputs": [
        {
          "output_type": "stream",
          "name": "stdout",
          "text": "Please say something about your pet: dog cat\nThere is more than one pet!\nThanks for the story!\n"
        }
      ]
    },
    {
      "metadata": {
        "collapsed": true
      },
      "cell_type": "markdown",
      "source": "[Terms of use](http://go.microsoft.com/fwlink/?LinkID=206977) &nbsp; [Privacy & cookies](https://go.microsoft.com/fwlink/?LinkId=521839) &nbsp; © 2017 Microsoft"
    }
  ],
  "metadata": {
    "anaconda-cloud": {},
    "kernelspec": {
      "name": "python3",
      "display_name": "Python 3",
      "language": "python"
    },
    "language_info": {
      "mimetype": "text/x-python",
      "nbconvert_exporter": "python",
      "name": "python",
      "file_extension": ".py",
      "version": "3.5.4",
      "pygments_lexer": "ipython3",
      "codemirror_mode": {
        "version": 3,
        "name": "ipython"
      }
    }
  },
  "nbformat": 4,
  "nbformat_minor": 1
}