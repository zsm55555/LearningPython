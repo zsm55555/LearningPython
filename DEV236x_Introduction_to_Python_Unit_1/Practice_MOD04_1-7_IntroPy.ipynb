{
  "cells": [
    {
      "metadata": {},
      "cell_type": "markdown",
      "source": "# 1-7.2 Intro Python Practice\n## `while()` loops & increments\n<font size=\"5\" color=\"#00A0B2\"  face=\"verdana\"> <B>Student will be able to</B></font>\n- create forever loops using `while` and `break`\n- use incrementing variables in a while loop\n- control while loops using Boolean operators"
    },
    {
      "metadata": {
        "trusted": true
      },
      "cell_type": "code",
      "source": "# [ ] use a \"forever\" while loop to get user input of integers to add to sum, \n# until a non-digit is entered, then break the loop and print sum\nsum = 0\n\nwhile True:\n    integer=input(\"enter an integer: \")\n    if integer.isdigit():\n        sum+=int(integer)\n    else:\n        break\nprint(\"sum:\",sum)    ",
      "execution_count": 3,
      "outputs": [
        {
          "output_type": "stream",
          "name": "stdout",
          "text": "enter an integer: 1\nenter an integer: 2\nenter an integer: 3\nenter an integer: kk\n6\n"
        }
      ]
    },
    {
      "metadata": {
        "trusted": true
      },
      "cell_type": "code",
      "source": "# [ ] use a while True loop (forever loop) to give 4 chances for input of a correct color in a rainbow\nrainbow = \"red orange yellow green blue indigo violet\"\ncount=0\n\nwhile count<4:\n    guess=input(\"enter a correct color in a rainbow: \")\n    if guess.lower() in rainbow:\n        print(\"Correct\")\n        break\n    else:\n        print(\"try again\")\n        count+=1\n",
      "execution_count": 4,
      "outputs": [
        {
          "output_type": "stream",
          "name": "stdout",
          "text": "enter a correct color in a rainbow: black\ntry again\nenter a correct color in a rainbow: re\nCorrect\n"
        }
      ]
    },
    {
      "metadata": {
        "trusted": true
      },
      "cell_type": "code",
      "source": "# [ ] Get input for a book title, keep looping while input is Not in title format (title is every word capitalized)\ntitle=\"\"\n\nwhile title.istitle() == False:\n    title=input(\"enter a title: \")\n    \nprint(\"The title is\",title)\n",
      "execution_count": 1,
      "outputs": [
        {
          "output_type": "stream",
          "name": "stdout",
          "text": "enter a title: aa bb cc\nenter a title: Aa bbC ds \nenter a title: Aa Bb Cc\nThe title is Aa Bb Cc\n"
        }
      ]
    },
    {
      "metadata": {
        "trusted": true
      },
      "cell_type": "code",
      "source": "# [ ] create a math quiz question and ask for the solution until the input is correct\n\nright_answer = 1+1\nmath_quiz_input = input(\"What is 1 plus 1? Enter your answer in numbers: \")\n\nwhile math_quiz_input != str(right_answer):\n    math_quiz_input = input(\"What is 1 plus 1? Enter your answer in numbers: \")\n    \nprint(\"Correct!\")",
      "execution_count": 2,
      "outputs": [
        {
          "output_type": "stream",
          "name": "stdout",
          "text": "What is 1 plus 1? Enter your answer in numbers: 333\nWhat is 1 plus 1? Enter your answer in numbers: ddd\nWhat is 1 plus 1? Enter your answer in numbers: 2\nCorrect!\n"
        }
      ]
    },
    {
      "metadata": {},
      "cell_type": "markdown",
      "source": "### Fix the Error"
    },
    {
      "metadata": {
        "trusted": true
      },
      "cell_type": "code",
      "source": "# [ ] review the code, run, fix the error\ntickets = int(input(\"enter tickets remaining (0 to quit): \"))\n\nwhile tickets > 0:\n        # if tickets are multiple of 3 then \"winner\"\n    if int(tickets/3) == tickets/3:\n        print(\"you win!\")\n    else:\n        print(\"sorry, not a winner.\")\n    tickets = int(input(\"enter tickets remaining (0 to quit): \"))\n\nprint(\"Game ended\")\n    \n",
      "execution_count": 5,
      "outputs": [
        {
          "output_type": "stream",
          "name": "stdout",
          "text": "enter tickets remaining (0 to quit): 1\nsorry, not a winner.\nenter tickets remaining (0 to quit): 2\nsorry, not a winner.\nenter tickets remaining (0 to quit): 3\nyou win!\nenter tickets remaining (0 to quit): 4\nsorry, not a winner.\nenter tickets remaining (0 to quit): 5\nsorry, not a winner.\nenter tickets remaining (0 to quit): 6\nyou win!\nenter tickets remaining (0 to quit): 0\nGame ended\n"
        }
      ]
    },
    {
      "metadata": {},
      "cell_type": "markdown",
      "source": "### create a function: quiz_item()  that asks a question and tests if input is correct  \n- quiz_item()has 2 parameter **strings**: question and solution  \n- shows question, gets answer input  \n- returns True if `answer == solution` or continues to ask question until correct answer is provided  \n- use a while loop\n\ncreate 2 or more quiz questions that call quiz_item()  \n**Hint**: provide multiple choice or T/F answers"
    },
    {
      "metadata": {
        "trusted": true
      },
      "cell_type": "code",
      "source": "# Create quiz_item() and 2 or more quiz questions that call quiz_item()\n\ndef quiz_item(question,solution):\n    print(question)\n    answer=input(\"enter your answer: \")\n    while answer!=solution:\n        answer=input(\"enter your answer: \")\n    return True\n    \nquiz_item(\"What is an apple, A: Fruit,B: Vegetable,C:Snack\",\"A\")\n\n\n",
      "execution_count": 10,
      "outputs": [
        {
          "output_type": "stream",
          "text": "What is an apple, A: Fruit,B: Vegetable,C:Snack\nenter your answer: 33\nenter your answer: 44\nenter your answer: 55\nenter your answer: A\n",
          "name": "stdout"
        },
        {
          "output_type": "execute_result",
          "execution_count": 10,
          "data": {
            "text/plain": "True"
          },
          "metadata": {}
        }
      ]
    },
    {
      "metadata": {
        "collapsed": true
      },
      "cell_type": "markdown",
      "source": "[Terms of use](http://go.microsoft.com/fwlink/?LinkID=206977) &nbsp; [Privacy & cookies](https://go.microsoft.com/fwlink/?LinkId=521839) &nbsp; © 2017 Microsoft"
    }
  ],
  "metadata": {
    "anaconda-cloud": {},
    "kernelspec": {
      "name": "python3",
      "display_name": "Python 3",
      "language": "python"
    },
    "language_info": {
      "mimetype": "text/x-python",
      "nbconvert_exporter": "python",
      "name": "python",
      "pygments_lexer": "ipython3",
      "version": "3.5.4",
      "file_extension": ".py",
      "codemirror_mode": {
        "version": 3,
        "name": "ipython"
      }
    }
  },
  "nbformat": 4,
  "nbformat_minor": 1
}