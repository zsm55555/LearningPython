{
  "cells": [
    {
      "metadata": {
        "collapsed": true
      },
      "cell_type": "markdown",
      "source": "# 1-1 Intro Python Practice\n##  Getting started with Python in Jupyter Notebooks\n### notebooks, comments, print(), type(), addition, errors and art\n\n<font size=\"5\" color=\"#00A0B2\"  face=\"verdana\"> <B>Student will be able to</B></font>\n- use Python 3 in Jupyter notebooks\n- write working code using `print()` and `#` comments  \n- write working code using `type()` and variables\n- combine strings using string addition (+)\n- add numbers in code (+)\n- troubleshoot errors\n- create character art  \n\n# &nbsp;\n>**note:** the **[ ]** indicates student has a task to complete  \n  \n>**reminder:** to run code and save changes: student should upload or clone a copy of notebooks \n\n#### notebook use\n- [ ] insert a **code cell** below   \n- [ ] enter the following Python code, including the comment: \n```python \n# [ ] print 'Hello!' and remember to save notebook!\nprint('Hello!')\n```\nThen run the code - the output should be:  \n`Hello!`"
    },
    {
      "metadata": {
        "trusted": true
      },
      "cell_type": "code",
      "source": "print(\"Hello!\")",
      "execution_count": 1,
      "outputs": [
        {
          "output_type": "stream",
          "text": "Hello!\n",
          "name": "stdout"
        }
      ]
    },
    {
      "metadata": {},
      "cell_type": "markdown",
      "source": "#### run the cell below   \n- [ ] use **Ctrl + Enter**  \n- [ ] use **Shift + Enter**    "
    },
    {
      "metadata": {
        "trusted": true
      },
      "cell_type": "code",
      "source": "print('watch for the cat')",
      "execution_count": 2,
      "outputs": [
        {
          "output_type": "stream",
          "text": "watch for the cat\n",
          "name": "stdout"
        }
      ]
    },
    {
      "metadata": {},
      "cell_type": "markdown",
      "source": "#### Student's Notebook editing\n- [ ] Edit **this** notebook Markdown cell replacing the word \"Student's\" above with your name\n- [ ] Run the cell to display the formatted text\n- [ ] Run any 'markdown' cells that are in edit mode, so they are easier to read"
    },
    {
      "metadata": {},
      "cell_type": "markdown",
      "source": "#### [ ] convert \\*this\\* cell from markdown to a code cell, then run it  \nprint('Run as a code cell')\n"
    },
    {
      "metadata": {},
      "cell_type": "markdown",
      "source": "##  # comments\ncreate a code comment that identifies this notebook, containing your name and the date"
    },
    {
      "metadata": {
        "collapsed": true,
        "trusted": false
      },
      "cell_type": "code",
      "source": "# Francis's notebook dated of March 15, 2019",
      "execution_count": null,
      "outputs": []
    },
    {
      "metadata": {},
      "cell_type": "markdown",
      "source": "#### use print() to \n- [ ] print [**your_name**]\n- [ ] print **is using python!**"
    },
    {
      "metadata": {
        "trusted": true
      },
      "cell_type": "code",
      "source": "# [ ] print your name\n\n# [ ] print \"is using Python\"\n\nprint(\"Francis\")\nprint(\"is using Python\")\n",
      "execution_count": 4,
      "outputs": [
        {
          "output_type": "stream",
          "text": "Francis\nis using Python\n",
          "name": "stdout"
        }
      ]
    },
    {
      "metadata": {},
      "cell_type": "markdown",
      "source": "Output above should be:  \n`Your Name  \nis using Python!`  "
    },
    {
      "metadata": {},
      "cell_type": "markdown",
      "source": "#### use variables in print()\n- [ ] create a variable **your_name** and assign it a string containing your name\n- [ ] print **your_name**"
    },
    {
      "metadata": {
        "trusted": true
      },
      "cell_type": "code",
      "source": "# [ ] create a variable your_name and assign it a sting containing your name\n\n#[ ] print your_name\n\nyour_name=\"Francis\"\nprint(your_name)",
      "execution_count": 5,
      "outputs": [
        {
          "output_type": "stream",
          "text": "Francis\n",
          "name": "stdout"
        }
      ]
    },
    {
      "metadata": {},
      "cell_type": "markdown",
      "source": "#### create more string variables\n- **[ ]** create variables as directed below\n- **[ ]** print the variables"
    },
    {
      "metadata": {
        "trusted": true
      },
      "cell_type": "code",
      "source": "# [ ] create variables and assign values for: favorite_song, shoe_size, lucky_number\n\n\n# [ ] print the value of each variable favorite_song, shoe_size, and lucky_number\n\nfavorite_song=\"Night\"\nshoe_size=5\nlucky_number=5\n\nprint(favorite_song)\nprint(shoe_size)\nprint(lucky_number)\n",
      "execution_count": 6,
      "outputs": [
        {
          "output_type": "stream",
          "text": "Night\n5\n5\n",
          "name": "stdout"
        }
      ]
    },
    {
      "metadata": {},
      "cell_type": "markdown",
      "source": "#### use string addition\n- **[ ]**  print the above string variables (favorite_song, shoe_size, lucky_number) combined with a description by using **string addition**\n>for example favorite_song displayed as:  \n`favorite song is happy birthday`"
    },
    {
      "metadata": {
        "trusted": true
      },
      "cell_type": "code",
      "source": "# [ ] print favorite_song with description\n\n\n# [ ] print shoe_size with description\n\n\n# [ ] print lucky_number with description\n\nprint(\"favorite song is\",favorite_song)\nprint(\"shoe size is\",shoe_size)\nprint(\"lucky number is\",lucky_number)",
      "execution_count": 7,
      "outputs": [
        {
          "output_type": "stream",
          "text": "favorite song is Night\nshoe size is 5\nlucky number is 5\n",
          "name": "stdout"
        }
      ]
    },
    {
      "metadata": {},
      "cell_type": "markdown",
      "source": "##### more string addition\n- **[ ]** make a single string (sentence) in a variable called favorite_lucky_shoe using **string addition** with favorite_song, shoe_size, lucky_number variables and other strings as needed \n- **[ ]** print the value of the favorite_lucky_shoe variable string\n> sample output:  \n`For singing happy birthday 8.5 times, you will be fined $25`"
    },
    {
      "metadata": {
        "trusted": true
      },
      "cell_type": "code",
      "source": "# assign favorite_lucky_shoe using\n\n\nfavorite_lucky_shoe=\"For singing \"+favorite_song+\" \"+str(shoe_size)+\" times, you will be fined $\"+str(lucky_number)\nprint(favorite_lucky_shoe)",
      "execution_count": 16,
      "outputs": [
        {
          "output_type": "stream",
          "text": "For singing Night 5 times, you will be fined $5\n",
          "name": "stdout"
        }
      ]
    },
    {
      "metadata": {},
      "cell_type": "markdown",
      "source": "### print() art"
    },
    {
      "metadata": {},
      "cell_type": "markdown",
      "source": "#### use `print()` and the asterisk **\\*** to create the following shapes\n- [ ] diagonal line  \n- [ ] rectangle  \n- [ ] smiley face"
    },
    {
      "metadata": {
        "trusted": true
      },
      "cell_type": "code",
      "source": "# [ ] print a diagonal using \"*\"\n\nprint(\"       *\")\nprint(\"      *\")\nprint(\"     *\")\nprint(\"    *\")\nprint(\"   *\")\nprint(\"  *\")\nprint(\" *\")\nprint(\"*\")\n# [ ] rectangle using \"*\"\nprint(\"**********\")\nprint(\"*        *\")\nprint(\"*        *\")\nprint(\"**********\")\n\n# [ ] smiley using \"*\"\n\nprint(\"*               *\")\nprint(\" *             *\")\nprint(\"   *         *\")\nprint(\"     *  *  *  \")\n",
      "execution_count": 17,
      "outputs": [
        {
          "output_type": "stream",
          "text": "       *\n      *\n     *\n    *\n   *\n  *\n *\n*\n**********\n*        *\n*        *\n**********\n*               *\n *             *\n   *         *\n     *  *  *  \n",
          "name": "stdout"
        }
      ]
    },
    {
      "metadata": {},
      "cell_type": "markdown",
      "source": "#### Using `type()`\n-**[ ]** calulate the *type* using `type()`"
    },
    {
      "metadata": {
        "trusted": true
      },
      "cell_type": "code",
      "source": "# [ ] display the type of 'your name' (use single quotes)\n\nprint(type('your name'))\n",
      "execution_count": 18,
      "outputs": [
        {
          "output_type": "stream",
          "text": "<class 'str'>\n",
          "name": "stdout"
        }
      ]
    },
    {
      "metadata": {
        "trusted": true
      },
      "cell_type": "code",
      "source": "# [ ] display the type of \"save your notebook!\" (use double quotes)\n\nprint(type('save your notebook!'))\n",
      "execution_count": 19,
      "outputs": [
        {
          "output_type": "stream",
          "text": "<class 'str'>\n",
          "name": "stdout"
        }
      ]
    },
    {
      "metadata": {
        "trusted": true
      },
      "cell_type": "code",
      "source": "# [ ] display the type of \"25\" (use quotes)\n\nprint(type('25'))",
      "execution_count": 20,
      "outputs": [
        {
          "output_type": "stream",
          "text": "<class 'str'>\n",
          "name": "stdout"
        }
      ]
    },
    {
      "metadata": {
        "trusted": true
      },
      "cell_type": "code",
      "source": "# [ ] display the type of \"save your notebook \" + 'your name'\n\nprint(type('save your notebook!'+'your name'))\n",
      "execution_count": 21,
      "outputs": [
        {
          "output_type": "stream",
          "text": "<class 'str'>\n",
          "name": "stdout"
        }
      ]
    },
    {
      "metadata": {
        "trusted": true
      },
      "cell_type": "code",
      "source": "# [ ] display the type of 25 (no quotes)\n\nprint(type(25))\n",
      "execution_count": 22,
      "outputs": [
        {
          "output_type": "stream",
          "text": "<class 'int'>\n",
          "name": "stdout"
        }
      ]
    },
    {
      "metadata": {
        "trusted": true
      },
      "cell_type": "code",
      "source": "# [ ] display the type of 25 + 10 \n\ntype(25+10)\n",
      "execution_count": 23,
      "outputs": [
        {
          "output_type": "execute_result",
          "execution_count": 23,
          "data": {
            "text/plain": "int"
          },
          "metadata": {}
        }
      ]
    },
    {
      "metadata": {
        "trusted": true
      },
      "cell_type": "code",
      "source": "# [ ] display the type of 1.55\n\n\ntype(1.55)",
      "execution_count": 24,
      "outputs": [
        {
          "output_type": "execute_result",
          "execution_count": 24,
          "data": {
            "text/plain": "float"
          },
          "metadata": {}
        }
      ]
    },
    {
      "metadata": {
        "trusted": true
      },
      "cell_type": "code",
      "source": "# [ ] display the type of 1.55 + 25\n\ntype(1.55+25)\n",
      "execution_count": 25,
      "outputs": [
        {
          "output_type": "execute_result",
          "execution_count": 25,
          "data": {
            "text/plain": "float"
          },
          "metadata": {}
        }
      ]
    },
    {
      "metadata": {},
      "cell_type": "markdown",
      "source": "#### Find the type of variables\n- **[ ]** run the cell below to make the variables available to be used in other code\n- **[ ]** display the data type as directed in the cells that follow"
    },
    {
      "metadata": {
        "trusted": true
      },
      "cell_type": "code",
      "source": "# assignments ***RUN THIS CELL*** before starting the section\n\nstudent_name = \"Gus\"\nstudent_age = 16\nstudent_grade = 3.5\nstudent_id = \"ABC-000-000\"\n",
      "execution_count": 26,
      "outputs": []
    },
    {
      "metadata": {
        "trusted": true
      },
      "cell_type": "code",
      "source": "# [ ] display the current type of the variable student_name\n\ntype(student_name)\n",
      "execution_count": 27,
      "outputs": [
        {
          "output_type": "execute_result",
          "execution_count": 27,
          "data": {
            "text/plain": "str"
          },
          "metadata": {}
        }
      ]
    },
    {
      "metadata": {
        "trusted": true
      },
      "cell_type": "code",
      "source": "# [ ] display the type of student_age\n\n\ntype(student_age)",
      "execution_count": 28,
      "outputs": [
        {
          "output_type": "execute_result",
          "execution_count": 28,
          "data": {
            "text/plain": "int"
          },
          "metadata": {}
        }
      ]
    },
    {
      "metadata": {
        "trusted": true
      },
      "cell_type": "code",
      "source": "# [ ] display the type of student_grade\n\ntype(student_grade)\n",
      "execution_count": 29,
      "outputs": [
        {
          "output_type": "execute_result",
          "execution_count": 29,
          "data": {
            "text/plain": "float"
          },
          "metadata": {}
        }
      ]
    },
    {
      "metadata": {
        "trusted": true
      },
      "cell_type": "code",
      "source": "# [ ] display the type of student_age + student_grade\n\ntype(student_age+student_grade)\n",
      "execution_count": 30,
      "outputs": [
        {
          "output_type": "execute_result",
          "execution_count": 30,
          "data": {
            "text/plain": "float"
          },
          "metadata": {}
        }
      ]
    },
    {
      "metadata": {
        "trusted": true
      },
      "cell_type": "code",
      "source": "# [ ] display the current type of student_id\n\n\ntype(student_id)",
      "execution_count": 31,
      "outputs": [
        {
          "output_type": "execute_result",
          "execution_count": 31,
          "data": {
            "text/plain": "str"
          },
          "metadata": {}
        }
      ]
    },
    {
      "metadata": {
        "trusted": true
      },
      "cell_type": "code",
      "source": "# assign new value to student_id \n\n\n# [ ] display the current of student_id\n\nstudent_id=5\nprint(student_id)\n",
      "execution_count": 32,
      "outputs": [
        {
          "output_type": "stream",
          "text": "5\n",
          "name": "stdout"
        }
      ]
    },
    {
      "metadata": {
        "collapsed": true
      },
      "cell_type": "markdown",
      "source": "#### number integer addition\n\n- **[ ]** create variables (x, y, z) with integer values"
    },
    {
      "metadata": {
        "trusted": true
      },
      "cell_type": "code",
      "source": "# [ ] create integer variables (x, y, z) and assign them 1-3 digit integers (no decimals - no quotes)\nx=5\ny=15\nz=28\n\n",
      "execution_count": 38,
      "outputs": []
    },
    {
      "metadata": {},
      "cell_type": "markdown",
      "source": "- **[ ]** insert a **code cell** below\n- **[ ]** create an integer variable named **xyz_sum** equal to the sum of x, y, and z\n- **[ ]** print the value of **xyz_sum** "
    },
    {
      "metadata": {
        "trusted": true
      },
      "cell_type": "code",
      "source": "\nxyz_sum=x+y+z\nprint(xyz_sum)\n",
      "execution_count": 39,
      "outputs": [
        {
          "output_type": "stream",
          "text": "48\n",
          "name": "stdout"
        }
      ]
    },
    {
      "metadata": {},
      "cell_type": "markdown",
      "source": "### Errors\n- **[ ]** troubleshoot and fix the errors below"
    },
    {
      "metadata": {
        "trusted": true
      },
      "cell_type": "code",
      "source": "# [ ] fix the error \n\nprint(\"Hello World!\")    \n\n\n",
      "execution_count": 33,
      "outputs": [
        {
          "output_type": "stream",
          "text": "Hello World!\n",
          "name": "stdout"
        }
      ]
    },
    {
      "metadata": {
        "trusted": true
      },
      "cell_type": "code",
      "source": "# [ ] fix the error \nprint(\"strings have quotes and variables have names\")\n\n",
      "execution_count": 35,
      "outputs": [
        {
          "output_type": "stream",
          "text": "strings have quotes and variables have names\n",
          "name": "stdout"
        }
      ]
    },
    {
      "metadata": {
        "trusted": true
      },
      "cell_type": "code",
      "source": "# [ ] fix the error \nprint( \"I have $\" , 5)\n\n",
      "execution_count": 36,
      "outputs": [
        {
          "output_type": "stream",
          "text": "I have $ 5\n",
          "name": "stdout"
        }
      ]
    },
    {
      "metadata": {
        "trusted": true
      },
      "cell_type": "code",
      "source": "# [ ] fix the error \nprint(\"always save the notebook\")\n      \n",
      "execution_count": 37,
      "outputs": [
        {
          "output_type": "stream",
          "text": "always save the notebook\n",
          "name": "stdout"
        }
      ]
    },
    {
      "metadata": {
        "collapsed": true
      },
      "cell_type": "markdown",
      "source": "## ASCII art\n- **[ ]** Display first name or initials as ASCII Art\n- **[ ]** Challenge: insert an additional code cell to make an ASCII picture"
    },
    {
      "metadata": {
        "trusted": false
      },
      "cell_type": "code",
      "source": "# [ ] ASCII ART\n\n\n",
      "execution_count": null,
      "outputs": []
    },
    {
      "metadata": {
        "trusted": false
      },
      "cell_type": "code",
      "source": "# [ ] ASCII ART\n\n",
      "execution_count": null,
      "outputs": []
    },
    {
      "metadata": {},
      "cell_type": "markdown",
      "source": "[Terms of use](http://go.microsoft.com/fwlink/?LinkID=206977) &nbsp; [Privacy & cookies](https://go.microsoft.com/fwlink/?LinkId=521839) &nbsp; © 2017 Microsoft"
    }
  ],
  "metadata": {
    "anaconda-cloud": {},
    "kernelspec": {
      "name": "python3",
      "display_name": "Python 3",
      "language": "python"
    },
    "language_info": {
      "mimetype": "text/x-python",
      "nbconvert_exporter": "python",
      "name": "python",
      "pygments_lexer": "ipython3",
      "version": "3.5.4",
      "file_extension": ".py",
      "codemirror_mode": {
        "version": 3,
        "name": "ipython"
      }
    }
  },
  "nbformat": 4,
  "nbformat_minor": 1
}